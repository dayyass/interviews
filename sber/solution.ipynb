{
 "cells": [
  {
   "cell_type": "code",
   "execution_count": null,
   "metadata": {},
   "outputs": [],
   "source": [
    "import numpy as np\n",
    "import pandas as pd\n",
    "from tqdm import trange\n",
    "\n",
    "import matplotlib.pyplot as plt\n",
    "import seaborn as sns"
   ]
  },
  {
   "cell_type": "code",
   "execution_count": null,
   "metadata": {},
   "outputs": [],
   "source": [
    "from sklearn.preprocessing import StandardScaler, OneHotEncoder, PolynomialFeatures\n",
    "from sklearn.pipeline import Pipeline\n",
    "from sklearn.model_selection import train_test_split, StratifiedKFold, GridSearchCV, RandomizedSearchCV\n",
    "from sklearn.metrics import make_scorer, accuracy_score, f1_score, classification_report\n",
    "\n",
    "from sklearn.linear_model import LogisticRegression\n",
    "from sklearn.ensemble import RandomForestClassifier\n",
    "from sklearn.neighbors import KNeighborsClassifier\n",
    "\n",
    "from xgboost import XGBClassifier"
   ]
  },
  {
   "cell_type": "code",
   "execution_count": null,
   "metadata": {},
   "outputs": [],
   "source": [
    "def f1_macro_score(y_true, y_pred):\n",
    "    return f1_score(\n",
    "        y_true=y_true,\n",
    "        y_pred=y_pred,\n",
    "        average='macro',\n",
    "    )"
   ]
  },
  {
   "cell_type": "markdown",
   "metadata": {},
   "source": [
    "### load pays.csv"
   ]
  },
  {
   "cell_type": "code",
   "execution_count": null,
   "metadata": {},
   "outputs": [],
   "source": [
    "pays = pd.read_csv('data/pays.csv')"
   ]
  },
  {
   "cell_type": "code",
   "execution_count": null,
   "metadata": {
    "scrolled": true
   },
   "outputs": [],
   "source": [
    "pays.head()"
   ]
  },
  {
   "cell_type": "code",
   "execution_count": null,
   "metadata": {},
   "outputs": [],
   "source": [
    "pays.tail()"
   ]
  },
  {
   "cell_type": "markdown",
   "metadata": {},
   "source": [
    "### pays analysis"
   ]
  },
  {
   "cell_type": "code",
   "execution_count": null,
   "metadata": {},
   "outputs": [],
   "source": [
    "pays.shape"
   ]
  },
  {
   "cell_type": "code",
   "execution_count": null,
   "metadata": {},
   "outputs": [],
   "source": [
    "pays.info()"
   ]
  },
  {
   "cell_type": "code",
   "execution_count": null,
   "metadata": {},
   "outputs": [],
   "source": [
    "pays.describe().apply(lambda x: round(x, 2))"
   ]
  },
  {
   "cell_type": "code",
   "execution_count": null,
   "metadata": {},
   "outputs": [],
   "source": [
    "# null values\n",
    "pays.isna().sum(axis=0)"
   ]
  },
  {
   "cell_type": "markdown",
   "metadata": {},
   "source": [
    "### pays features analysis"
   ]
  },
  {
   "cell_type": "code",
   "execution_count": null,
   "metadata": {},
   "outputs": [],
   "source": [
    "for column in pays.columns:\n",
    "    print(f\"{column} nunique values: {pays[column].nunique()}\")"
   ]
  },
  {
   "cell_type": "code",
   "execution_count": null,
   "metadata": {},
   "outputs": [],
   "source": [
    "plt.hist(\n",
    "    pays['week'], \n",
    "    edgecolor='black',\n",
    "    bins=pays['week'].nunique()-1,\n",
    "    align='left',\n",
    ")\n",
    "plt.title('week')\n",
    "plt.xticks(np.arange(0, max(pays['week']) + 1, 1))\n",
    "plt.grid()"
   ]
  },
  {
   "cell_type": "code",
   "execution_count": null,
   "metadata": {},
   "outputs": [],
   "source": [
    "plt.figure(figsize=(20, 5))\n",
    "\n",
    "plt.subplot(1, 3, 1)\n",
    "plt.hist(pays['count'], edgecolor='black')\n",
    "plt.title('count')\n",
    "plt.grid()\n",
    "\n",
    "plt.subplot(1, 3, 2)\n",
    "plt.hist(pays[pays['count'] <= 500]['count'], edgecolor='black')\n",
    "plt.title('count')\n",
    "plt.grid()\n",
    "\n",
    "plt.subplot(1, 3, 3)\n",
    "plt.hist(pays[pays['count'] <= 50]['count'], edgecolor='black')\n",
    "plt.title('count')\n",
    "plt.grid()"
   ]
  },
  {
   "cell_type": "code",
   "execution_count": null,
   "metadata": {},
   "outputs": [],
   "source": [
    "plt.hist(pays[pays['sum'] < 0]['sum'].dropna(), edgecolor='black')\n",
    "plt.title('sum < 0')\n",
    "plt.grid()"
   ]
  },
  {
   "cell_type": "markdown",
   "metadata": {},
   "source": [
    "### load inn_info_public.csv"
   ]
  },
  {
   "cell_type": "code",
   "execution_count": null,
   "metadata": {},
   "outputs": [],
   "source": [
    "inn_info_public = pd.read_csv('data/inn_info_public.csv')"
   ]
  },
  {
   "cell_type": "code",
   "execution_count": null,
   "metadata": {
    "scrolled": true
   },
   "outputs": [],
   "source": [
    "inn_info_public.head()"
   ]
  },
  {
   "cell_type": "code",
   "execution_count": null,
   "metadata": {},
   "outputs": [],
   "source": [
    "inn_info_public.tail()"
   ]
  },
  {
   "cell_type": "markdown",
   "metadata": {},
   "source": [
    "### inn_info_public analysis"
   ]
  },
  {
   "cell_type": "code",
   "execution_count": null,
   "metadata": {},
   "outputs": [],
   "source": [
    "inn_info_public.shape"
   ]
  },
  {
   "cell_type": "code",
   "execution_count": null,
   "metadata": {},
   "outputs": [],
   "source": [
    "inn_info_public.info()"
   ]
  },
  {
   "cell_type": "code",
   "execution_count": null,
   "metadata": {},
   "outputs": [],
   "source": [
    "inn_info_public.describe().apply(lambda x: round(x, 2))"
   ]
  },
  {
   "cell_type": "code",
   "execution_count": null,
   "metadata": {},
   "outputs": [],
   "source": [
    "# null values\n",
    "inn_info_public.isnull().sum(axis=0)"
   ]
  },
  {
   "cell_type": "markdown",
   "metadata": {},
   "source": [
    "### inn_info_public features analysis"
   ]
  },
  {
   "cell_type": "code",
   "execution_count": null,
   "metadata": {},
   "outputs": [],
   "source": [
    "for column in inn_info_public.columns:\n",
    "    print(f\"{column} nunique values: {inn_info_public[column].nunique()}\")"
   ]
  },
  {
   "cell_type": "code",
   "execution_count": null,
   "metadata": {
    "scrolled": true
   },
   "outputs": [],
   "source": [
    "inn_info_public[inn_info_public['okved2'] != -1]['okved2'].value_counts()"
   ]
  },
  {
   "cell_type": "code",
   "execution_count": null,
   "metadata": {},
   "outputs": [],
   "source": [
    "# accuracy for the constant algorithm, which always produces the label of the largest class, is 27.8%\n",
    "inn_info_public[inn_info_public['okved2'] != -1]['okved2'].value_counts(normalize=True)"
   ]
  },
  {
   "cell_type": "code",
   "execution_count": null,
   "metadata": {},
   "outputs": [],
   "source": [
    "# train / test\n",
    "inn_info_public['is_public'].value_counts()"
   ]
  },
  {
   "cell_type": "code",
   "execution_count": null,
   "metadata": {
    "scrolled": false
   },
   "outputs": [],
   "source": [
    "plt.figure(figsize=(10, 10))\n",
    "plt.grid()\n",
    "plt.xlabel('region')\n",
    "plt.ylabel('okved2')\n",
    "plt.scatter(\n",
    "    inn_info_public[inn_info_public['okved2'] != -1][['region']],\n",
    "    inn_info_public[inn_info_public['okved2'] != -1][['okved2']],\n",
    ")"
   ]
  },
  {
   "cell_type": "code",
   "execution_count": null,
   "metadata": {
    "scrolled": false
   },
   "outputs": [],
   "source": [
    "# if a company is from region 0 or 40, then we can definitely tell its okved2\n",
    "inn_info_public[inn_info_public['okved2'] != -1].pivot_table(\n",
    "    index='region',\n",
    "    values='okved2',\n",
    "    aggfunc='nunique',\n",
    ").sort_values(by='okved2')"
   ]
  },
  {
   "cell_type": "markdown",
   "metadata": {},
   "source": [
    "### merge datasets"
   ]
  },
  {
   "cell_type": "code",
   "execution_count": null,
   "metadata": {},
   "outputs": [],
   "source": [
    "graph_df = pays.merge(\n",
    "    right=inn_info_public.drop('is_public', axis=1),\n",
    "    left_on='hash_inn_kt',\n",
    "    right_on='hash_inn',\n",
    "    how='left',\n",
    ").drop(['hash_inn'], axis=1).merge(\n",
    "    inn_info_public.drop('is_public', axis=1),\n",
    "    left_on='hash_inn_dt',\n",
    "    right_on='hash_inn',\n",
    "    how='left',\n",
    "    suffixes=['_kt', '_dt']\n",
    ").drop(['hash_inn'], axis=1)"
   ]
  },
  {
   "cell_type": "code",
   "execution_count": null,
   "metadata": {},
   "outputs": [],
   "source": [
    "graph_df.head()"
   ]
  },
  {
   "cell_type": "code",
   "execution_count": null,
   "metadata": {},
   "outputs": [],
   "source": [
    "graph_df.tail()"
   ]
  },
  {
   "cell_type": "markdown",
   "metadata": {},
   "source": [
    "### baseline"
   ]
  },
  {
   "cell_type": "markdown",
   "metadata": {},
   "source": [
    "let's try for each INN give a industry of INN with which we send most payments"
   ]
  },
  {
   "cell_type": "code",
   "execution_count": null,
   "metadata": {},
   "outputs": [],
   "source": [
    "# straight-forward solution causes:\n",
    "# \"ValueError: Unstacked DataFrame is too big, causing int32 overflow\"\n",
    "# so we will iterate over chunks\n",
    "\n",
    "chunks = np.linspace(pays['hash_inn_kt'].min(), pays['hash_inn_kt'].max() + 1)\n",
    "\n",
    "inn_with_max_value = []\n",
    "\n",
    "for i in trange(len(chunks) - 1):\n",
    "    lower_inn = chunks[i]\n",
    "    upper_inn = chunks[i+1]\n",
    "    \n",
    "    chunk = pays[(pays['hash_inn_kt'] >= lower_inn) & (pays['hash_inn_kt'] < upper_inn)]\n",
    "    \n",
    "    inn_with_max_value_chunk = chunk.pivot_table(\n",
    "        index='hash_inn_kt',\n",
    "        columns='hash_inn_dt',\n",
    "        values='count',\n",
    "        aggfunc='sum',\n",
    "    ).idxmax(axis=1)  # take INN with max value (argmax)\n",
    "    \n",
    "    inn_with_max_value.append(inn_with_max_value_chunk)"
   ]
  },
  {
   "cell_type": "code",
   "execution_count": null,
   "metadata": {},
   "outputs": [],
   "source": [
    "inn_with_max_value = pd.concat(inn_with_max_value)\n",
    "inn_with_max_value.name = 'inn_with_max_value'"
   ]
  },
  {
   "cell_type": "code",
   "execution_count": null,
   "metadata": {},
   "outputs": [],
   "source": [
    "inn_with_max_value"
   ]
  },
  {
   "cell_type": "code",
   "execution_count": null,
   "metadata": {},
   "outputs": [],
   "source": [
    "y_true = inn_info_public.set_index(['hash_inn'])['okved2']"
   ]
  },
  {
   "cell_type": "code",
   "execution_count": null,
   "metadata": {},
   "outputs": [],
   "source": [
    "y_true.value_counts()"
   ]
  },
  {
   "cell_type": "code",
   "execution_count": null,
   "metadata": {},
   "outputs": [],
   "source": [
    "y_pred = pd.merge(\n",
    "    left=inn_with_max_value,\n",
    "    right=y_true,\n",
    "    left_on='inn_with_max_value',\n",
    "    right_index=True,\n",
    ")['okved2']"
   ]
  },
  {
   "cell_type": "code",
   "execution_count": null,
   "metadata": {},
   "outputs": [],
   "source": [
    "y_pred.value_counts()"
   ]
  },
  {
   "cell_type": "code",
   "execution_count": null,
   "metadata": {
    "scrolled": true
   },
   "outputs": [],
   "source": [
    "okved_compare = pd.merge(\n",
    "    left=y_pred,\n",
    "    right=y_true,\n",
    "    left_index=True,\n",
    "    right_index=True,\n",
    "    how='inner',\n",
    "    suffixes=['_pred', '_true'],\n",
    ")"
   ]
  },
  {
   "cell_type": "code",
   "execution_count": null,
   "metadata": {},
   "outputs": [],
   "source": [
    "okved_compare"
   ]
  },
  {
   "cell_type": "code",
   "execution_count": null,
   "metadata": {},
   "outputs": [],
   "source": [
    "# filter -1 industry\n",
    "filter_idx = (okved_compare['okved2_pred'] != -1) & (okved_compare['okved2_true'] != -1)"
   ]
  },
  {
   "cell_type": "code",
   "execution_count": null,
   "metadata": {},
   "outputs": [],
   "source": [
    "accuracy = accuracy_score(\n",
    "    y_true=okved_compare[filter_idx]['okved2_true'],\n",
    "    y_pred=okved_compare[filter_idx]['okved2_pred'],\n",
    ")"
   ]
  },
  {
   "cell_type": "code",
   "execution_count": null,
   "metadata": {},
   "outputs": [],
   "source": [
    "# let's try for each INN give a industry of INN with which we send most payments\n",
    "print(f\"accuracy: {round(accuracy, 3)}\")"
   ]
  },
  {
   "cell_type": "code",
   "execution_count": null,
   "metadata": {
    "scrolled": true
   },
   "outputs": [],
   "source": [
    "print(\n",
    "    classification_report(\n",
    "        y_true=okved_compare[filter_idx]['okved2_true'],\n",
    "        y_pred=okved_compare[filter_idx]['okved2_pred'],\n",
    "    )\n",
    ")"
   ]
  },
  {
   "cell_type": "markdown",
   "metadata": {},
   "source": [
    "### feature generation"
   ]
  },
  {
   "cell_type": "code",
   "execution_count": null,
   "metadata": {
    "scrolled": true
   },
   "outputs": [],
   "source": [
    "# the number of unique INN to whom the transaction were made\n",
    "feature_1 = graph_df.pivot_table(\n",
    "    index='hash_inn_kt',\n",
    "    values='hash_inn_dt',\n",
    "    aggfunc='nunique',\n",
    ")['hash_inn_dt']\n",
    "feature_1.head()"
   ]
  },
  {
   "cell_type": "code",
   "execution_count": null,
   "metadata": {},
   "outputs": [],
   "source": [
    "# the number of unique INN to whom the transaction were made\n",
    "feature_1_week = graph_df.pivot_table(\n",
    "    index='hash_inn_kt',\n",
    "    columns='week',\n",
    "    values='hash_inn_dt',\n",
    "    aggfunc='nunique').fillna(0)\n",
    "feature_1_week.head()"
   ]
  },
  {
   "cell_type": "code",
   "execution_count": null,
   "metadata": {
    "scrolled": true
   },
   "outputs": [],
   "source": [
    "# the number of weeks transactions were made throughout\n",
    "feature_2 = graph_df.pivot_table(\n",
    "    index='hash_inn_kt',\n",
    "    values='week',\n",
    "    aggfunc='nunique',\n",
    ")['week']\n",
    "feature_2.head()"
   ]
  },
  {
   "cell_type": "code",
   "execution_count": null,
   "metadata": {
    "scrolled": true
   },
   "outputs": [],
   "source": [
    "# number of transactions\n",
    "feature_3 = graph_df.pivot_table(\n",
    "    index='hash_inn_kt',\n",
    "    values='count',\n",
    "    aggfunc='nunique',\n",
    ")['count']\n",
    "feature_3.head()"
   ]
  },
  {
   "cell_type": "code",
   "execution_count": null,
   "metadata": {},
   "outputs": [],
   "source": [
    "feature_3_week = graph_df.pivot_table(\n",
    "    index='hash_inn_kt',\n",
    "    columns='week',\n",
    "    values='count',\n",
    "    aggfunc='nunique',\n",
    ").fillna(0)\n",
    "feature_3_week.head()"
   ]
  },
  {
   "cell_type": "code",
   "execution_count": null,
   "metadata": {
    "scrolled": true
   },
   "outputs": [],
   "source": [
    "feature_4 = graph_df.pivot_table(\n",
    "    index='hash_inn_kt',\n",
    "    values='count',\n",
    "    aggfunc='count',\n",
    ")['count']\n",
    "feature_4.head()"
   ]
  },
  {
   "cell_type": "code",
   "execution_count": null,
   "metadata": {},
   "outputs": [],
   "source": [
    "feature_4_week = graph_df.pivot_table(\n",
    "    index='hash_inn_kt',\n",
    "    columns='week',\n",
    "    values='count',\n",
    "    aggfunc='count',\n",
    ").fillna(0)\n",
    "feature_4_week.head()"
   ]
  },
  {
   "cell_type": "code",
   "execution_count": null,
   "metadata": {
    "scrolled": true
   },
   "outputs": [],
   "source": [
    "feature_5 = graph_df.pivot_table(\n",
    "    index='hash_inn_kt',\n",
    "    values='count',\n",
    "    aggfunc='sum',\n",
    ")['count']\n",
    "feature_5.head()"
   ]
  },
  {
   "cell_type": "code",
   "execution_count": null,
   "metadata": {},
   "outputs": [],
   "source": [
    "feature_5_week = graph_df.pivot_table(\n",
    "    index='hash_inn_kt',\n",
    "    columns='week',\n",
    "    values='count',\n",
    "    aggfunc='sum',\n",
    ").fillna(0)\n",
    "feature_5_week.head()"
   ]
  },
  {
   "cell_type": "code",
   "execution_count": null,
   "metadata": {
    "scrolled": true
   },
   "outputs": [],
   "source": [
    "# amount of payments\n",
    "feature_6 = graph_df.pivot_table(\n",
    "    index='hash_inn_kt',\n",
    "    values='sum',\n",
    "    aggfunc='nunique',\n",
    ")['sum']\n",
    "feature_6.head()"
   ]
  },
  {
   "cell_type": "code",
   "execution_count": null,
   "metadata": {},
   "outputs": [],
   "source": [
    "feature_6_week = graph_df.pivot_table(\n",
    "    index='hash_inn_kt',\n",
    "    columns='week',\n",
    "    values='sum',\n",
    "    aggfunc='nunique',\n",
    ").fillna(0)\n",
    "feature_6_week.head()"
   ]
  },
  {
   "cell_type": "code",
   "execution_count": null,
   "metadata": {
    "scrolled": true
   },
   "outputs": [],
   "source": [
    "feature_7 = graph_df.pivot_table(\n",
    "    index='hash_inn_kt',\n",
    "    values='sum',\n",
    "    aggfunc='sum',\n",
    ")['sum']\n",
    "feature_7.head()"
   ]
  },
  {
   "cell_type": "code",
   "execution_count": null,
   "metadata": {},
   "outputs": [],
   "source": [
    "feature_7_week = graph_df.pivot_table(\n",
    "    index='hash_inn_kt',\n",
    "    columns='week',\n",
    "    values='sum',\n",
    "    aggfunc='sum',\n",
    ").fillna(0)\n",
    "feature_7_week.head()"
   ]
  },
  {
   "cell_type": "code",
   "execution_count": null,
   "metadata": {
    "scrolled": true
   },
   "outputs": [],
   "source": [
    "# number of unique regions where transactions were made\n",
    "feature_8 = graph_df.pivot_table(\n",
    "    index='hash_inn_kt',\n",
    "    values='region_dt',\n",
    "    aggfunc='nunique',\n",
    ")['region_dt']\n",
    "feature_8.head()"
   ]
  },
  {
   "cell_type": "code",
   "execution_count": null,
   "metadata": {},
   "outputs": [],
   "source": [
    "feature_8_week = graph_df.pivot_table(\n",
    "    index='hash_inn_kt',\n",
    "    columns='week',\n",
    "    values='region_dt',\n",
    "    aggfunc='nunique',\n",
    ").fillna(0)\n",
    "feature_8_week.head()"
   ]
  },
  {
   "cell_type": "code",
   "execution_count": null,
   "metadata": {
    "scrolled": true
   },
   "outputs": [],
   "source": [
    "# number of unique industries of companies where transactions were made\n",
    "feature_9 = graph_df.pivot_table(\n",
    "    index='hash_inn_kt',\n",
    "    values='okved2_dt',\n",
    "    aggfunc='nunique',\n",
    ")['okved2_dt']\n",
    "feature_9.head()"
   ]
  },
  {
   "cell_type": "code",
   "execution_count": null,
   "metadata": {},
   "outputs": [],
   "source": [
    "feature_9_week = graph_df.pivot_table(\n",
    "    index='hash_inn_kt',\n",
    "    columns='week',\n",
    "    values='okved2_dt',\n",
    "    aggfunc='nunique',\n",
    ").fillna(0)\n",
    "feature_9_week.head()"
   ]
  },
  {
   "cell_type": "code",
   "execution_count": null,
   "metadata": {
    "scrolled": true
   },
   "outputs": [],
   "source": [
    "# the number of unique INN that made transactions to us\n",
    "feature_10 = graph_df.pivot_table(\n",
    "    index='hash_inn_dt',\n",
    "    values='hash_inn_kt',\n",
    "    aggfunc='nunique',\n",
    ")['hash_inn_kt']\n",
    "feature_10.head()"
   ]
  },
  {
   "cell_type": "code",
   "execution_count": null,
   "metadata": {},
   "outputs": [],
   "source": [
    "feature_10_week = graph_df.pivot_table(\n",
    "    index='hash_inn_dt',\n",
    "    columns='week',\n",
    "    values='hash_inn_kt',\n",
    "    aggfunc='nunique',\n",
    ").fillna(0)\n",
    "feature_10_week.head()"
   ]
  },
  {
   "cell_type": "code",
   "execution_count": null,
   "metadata": {
    "scrolled": true
   },
   "outputs": [],
   "source": [
    "# the number of weeks during which transactions were made to us\n",
    "feature_11 = graph_df.pivot_table(\n",
    "    index='hash_inn_dt',\n",
    "    values='week',\n",
    "    aggfunc='nunique',\n",
    ")['week']\n",
    "feature_11.head()"
   ]
  },
  {
   "cell_type": "code",
   "execution_count": null,
   "metadata": {
    "scrolled": true
   },
   "outputs": [],
   "source": [
    "# number of transactions\n",
    "feature_12 = graph_df.pivot_table(\n",
    "    index='hash_inn_dt',\n",
    "    values='count',\n",
    "    aggfunc='nunique',\n",
    ")['count']\n",
    "feature_12.head()"
   ]
  },
  {
   "cell_type": "code",
   "execution_count": null,
   "metadata": {},
   "outputs": [],
   "source": [
    "feature_12_week = graph_df.pivot_table(\n",
    "    index='hash_inn_dt',\n",
    "    columns='week',\n",
    "    values='count',\n",
    "    aggfunc='nunique',\n",
    ").fillna(0)\n",
    "feature_12_week.head()"
   ]
  },
  {
   "cell_type": "code",
   "execution_count": null,
   "metadata": {
    "scrolled": true
   },
   "outputs": [],
   "source": [
    "feature_13 = graph_df.pivot_table(\n",
    "    index='hash_inn_dt',\n",
    "    values='count',\n",
    "    aggfunc='count',\n",
    ")['count']\n",
    "feature_13.head()"
   ]
  },
  {
   "cell_type": "code",
   "execution_count": null,
   "metadata": {},
   "outputs": [],
   "source": [
    "feature_13_week = graph_df.pivot_table(\n",
    "    index='hash_inn_dt',\n",
    "    columns='week',\n",
    "    values='count',\n",
    "    aggfunc='count',\n",
    ").fillna(0)\n",
    "feature_13_week.head()"
   ]
  },
  {
   "cell_type": "code",
   "execution_count": null,
   "metadata": {
    "scrolled": true
   },
   "outputs": [],
   "source": [
    "feature_14 = graph_df.pivot_table(\n",
    "    index='hash_inn_dt',\n",
    "    values='count',\n",
    "    aggfunc='sum',\n",
    ")['count']\n",
    "feature_14.head()"
   ]
  },
  {
   "cell_type": "code",
   "execution_count": null,
   "metadata": {},
   "outputs": [],
   "source": [
    "feature_14_week = graph_df.pivot_table(\n",
    "    index='hash_inn_dt',\n",
    "    columns='week',\n",
    "    values='count',\n",
    "    aggfunc='sum',\n",
    ").fillna(0)\n",
    "feature_14_week.head()"
   ]
  },
  {
   "cell_type": "code",
   "execution_count": null,
   "metadata": {
    "scrolled": true
   },
   "outputs": [],
   "source": [
    "# amount of payments\n",
    "feature_15 = graph_df.pivot_table(\n",
    "    index='hash_inn_dt',\n",
    "    values='sum',\n",
    "    aggfunc='nunique',\n",
    ")['sum']\n",
    "feature_15.head()"
   ]
  },
  {
   "cell_type": "code",
   "execution_count": null,
   "metadata": {},
   "outputs": [],
   "source": [
    "feature_15_week = graph_df.pivot_table(\n",
    "    index='hash_inn_dt',\n",
    "    columns='week',\n",
    "    values='sum',\n",
    "    aggfunc='nunique',\n",
    ").fillna(0)\n",
    "feature_15_week.head()"
   ]
  },
  {
   "cell_type": "code",
   "execution_count": null,
   "metadata": {
    "scrolled": true
   },
   "outputs": [],
   "source": [
    "feature_16 = graph_df.pivot_table(\n",
    "    index='hash_inn_dt',\n",
    "    values='sum',\n",
    "    aggfunc='sum',\n",
    ")['sum']\n",
    "feature_16.head()"
   ]
  },
  {
   "cell_type": "code",
   "execution_count": null,
   "metadata": {},
   "outputs": [],
   "source": [
    "feature_16_week = graph_df.pivot_table(\n",
    "    index='hash_inn_dt',\n",
    "    columns='week',\n",
    "    values='sum',\n",
    "    aggfunc='sum',\n",
    ").fillna(0)\n",
    "feature_16_week.head()"
   ]
  },
  {
   "cell_type": "code",
   "execution_count": null,
   "metadata": {
    "scrolled": true
   },
   "outputs": [],
   "source": [
    "# the number of unique regions from which transactions were made to us\n",
    "feature_17 = graph_df.pivot_table(\n",
    "    index='hash_inn_dt',\n",
    "    values='region_kt',\n",
    "    aggfunc='nunique',\n",
    ")['region_kt']\n",
    "feature_17.head()"
   ]
  },
  {
   "cell_type": "code",
   "execution_count": null,
   "metadata": {},
   "outputs": [],
   "source": [
    "feature_17_week = graph_df.pivot_table(\n",
    "    index='hash_inn_dt',\n",
    "    columns='week',\n",
    "    values='region_kt',\n",
    "    aggfunc='nunique',\n",
    ").fillna(0)\n",
    "feature_17_week.head()"
   ]
  },
  {
   "cell_type": "code",
   "execution_count": null,
   "metadata": {
    "scrolled": true
   },
   "outputs": [],
   "source": [
    "# the number of unique industries of companies from which transactions were made to us\n",
    "feature_18 = graph_df.pivot_table(\n",
    "    index='hash_inn_dt',\n",
    "    values='okved2_kt',\n",
    "    aggfunc='nunique',\n",
    ")['okved2_kt']\n",
    "feature_18.head()"
   ]
  },
  {
   "cell_type": "code",
   "execution_count": null,
   "metadata": {},
   "outputs": [],
   "source": [
    "feature_18_week = graph_df.pivot_table(\n",
    "    index='hash_inn_dt',\n",
    "    columns='week',\n",
    "    values='okved2_kt',\n",
    "    aggfunc='nunique',\n",
    ").fillna(0)\n",
    "feature_18_week.head()"
   ]
  },
  {
   "cell_type": "markdown",
   "metadata": {},
   "source": [
    "### combine generated features"
   ]
  },
  {
   "cell_type": "code",
   "execution_count": null,
   "metadata": {},
   "outputs": [],
   "source": [
    "df = inn_info_public.set_index(['hash_inn']).copy()\n",
    "\n",
    "for i, feature in enumerate([\n",
    "    feature_1,\n",
    "    feature_2,\n",
    "    feature_3,\n",
    "    feature_4,\n",
    "    feature_5,\n",
    "    feature_6,\n",
    "    feature_7,\n",
    "    feature_8,\n",
    "    feature_9,\n",
    "    feature_10,\n",
    "    feature_11,\n",
    "    feature_12,\n",
    "    feature_13,\n",
    "    feature_14,\n",
    "    feature_15,\n",
    "    feature_16,\n",
    "    feature_17,\n",
    "    feature_18,\n",
    "]):\n",
    "    feature.name = i\n",
    "    df = df.merge(feature, how='left', left_index=True, right_index=True)\n",
    "    df.fillna(0, inplace=True)"
   ]
  },
  {
   "cell_type": "code",
   "execution_count": null,
   "metadata": {},
   "outputs": [],
   "source": [
    "df.head()"
   ]
  },
  {
   "cell_type": "code",
   "execution_count": null,
   "metadata": {},
   "outputs": [],
   "source": [
    "# df_week = inn_info_public.set_index(['hash_inn']).copy()\n",
    "\n",
    "# for feature in [\n",
    "#     feature_1_week,\n",
    "#     feature_2,\n",
    "#     feature_3_week,\n",
    "#     feature_4_week,\n",
    "#     feature_5_week,\n",
    "#     feature_6_week,\n",
    "#     feature_7_week,\n",
    "#     feature_8_week,\n",
    "#     feature_9_week,\n",
    "#     feature_10_week,\n",
    "#     feature_11,\n",
    "#     feature_12_week,\n",
    "#     feature_13_week,\n",
    "#     feature_14_week,\n",
    "#     feature_15_week,\n",
    "#     feature_16_week,\n",
    "#     feature_17_week,\n",
    "#     feature_18_week,\n",
    "# ]:\n",
    "#     df_week = df_week.merge(feature, how='left', left_index=True, right_index=True)"
   ]
  },
  {
   "cell_type": "code",
   "execution_count": null,
   "metadata": {
    "scrolled": true
   },
   "outputs": [],
   "source": [
    "# df_week.head()"
   ]
  },
  {
   "cell_type": "code",
   "execution_count": null,
   "metadata": {},
   "outputs": [],
   "source": [
    "# linear independent\n",
    "(df.corr() == 1).sum(axis=1)"
   ]
  },
  {
   "cell_type": "code",
   "execution_count": null,
   "metadata": {},
   "outputs": [],
   "source": [
    "# corr\n",
    "sns.heatmap(df.corr())"
   ]
  },
  {
   "cell_type": "markdown",
   "metadata": {},
   "source": [
    "### train/val"
   ]
  },
  {
   "cell_type": "code",
   "execution_count": null,
   "metadata": {},
   "outputs": [],
   "source": [
    "X = df[df['is_public'] == True].drop(['okved2', 'is_public'], axis=1)\n",
    "y = df[df['is_public'] == True]['okved2']\n",
    "\n",
    "X_test = df[df['is_public'] == False].drop(['okved2', 'is_public'], axis=1)"
   ]
  },
  {
   "cell_type": "code",
   "execution_count": null,
   "metadata": {},
   "outputs": [],
   "source": [
    "# train_test_split\n",
    "X_train, X_val, y_train, y_val = train_test_split(\n",
    "    X, y,\n",
    "    test_size=0.3,\n",
    "    shuffle=True,\n",
    "    stratify=y,\n",
    "    random_state=42,\n",
    ")"
   ]
  },
  {
   "cell_type": "markdown",
   "metadata": {},
   "source": [
    "### KNN"
   ]
  },
  {
   "cell_type": "code",
   "execution_count": null,
   "metadata": {},
   "outputs": [],
   "source": [
    "knn = KNeighborsClassifier()"
   ]
  },
  {
   "cell_type": "code",
   "execution_count": null,
   "metadata": {},
   "outputs": [],
   "source": [
    "knn.get_params()"
   ]
  },
  {
   "cell_type": "code",
   "execution_count": null,
   "metadata": {},
   "outputs": [],
   "source": [
    "param_grid = {\n",
    "    'n_neighbors': [5, 10, 15],\n",
    "    'p': [1, 2],\n",
    "}\n",
    "scoring = make_scorer(f1_macro_score)\n",
    "cv = StratifiedKFold(n_splits=3)"
   ]
  },
  {
   "cell_type": "code",
   "execution_count": null,
   "metadata": {},
   "outputs": [],
   "source": [
    "grid = GridSearchCV(\n",
    "    estimator=knn,\n",
    "    param_grid=param_grid,\n",
    "    scoring=scoring,\n",
    "    cv=cv,\n",
    "    verbose=1,\n",
    ")"
   ]
  },
  {
   "cell_type": "code",
   "execution_count": null,
   "metadata": {},
   "outputs": [],
   "source": [
    "%%time\n",
    "grid.fit(X_train, y_train)"
   ]
  },
  {
   "cell_type": "code",
   "execution_count": null,
   "metadata": {},
   "outputs": [],
   "source": [
    "print(f\"best f1-macro: {grid.best_score_}\")\n",
    "print(f\"best params: {grid.best_params_}\")"
   ]
  },
  {
   "cell_type": "code",
   "execution_count": null,
   "metadata": {},
   "outputs": [],
   "source": [
    "val_accuracy = accuracy_score(grid.predict(X_val), y_val)\n",
    "print(f\"validation accuracy: {val_accuracy}\")"
   ]
  },
  {
   "cell_type": "code",
   "execution_count": null,
   "metadata": {
    "scrolled": true
   },
   "outputs": [],
   "source": [
    "print(\n",
    "    classification_report(\n",
    "        y_true=y_val,\n",
    "        y_pred=grid.predict(X_val),\n",
    "    )\n",
    ")"
   ]
  },
  {
   "cell_type": "markdown",
   "metadata": {},
   "source": [
    "### LogReg"
   ]
  },
  {
   "cell_type": "code",
   "execution_count": null,
   "metadata": {},
   "outputs": [],
   "source": [
    "poly = PolynomialFeatures()\n",
    "scaler = StandardScaler()\n",
    "logreg = LogisticRegression()\n",
    "\n",
    "model_pipe = Pipeline([\n",
    "    ('poly', poly),\n",
    "    ('scaler', scaler),\n",
    "    ('logreg', logreg),\n",
    "])"
   ]
  },
  {
   "cell_type": "code",
   "execution_count": null,
   "metadata": {
    "scrolled": true
   },
   "outputs": [],
   "source": [
    "model_pipe.get_params()"
   ]
  },
  {
   "cell_type": "code",
   "execution_count": null,
   "metadata": {},
   "outputs": [],
   "source": [
    "param_grid = {\n",
    "    'poly__degree': [1, 2],\n",
    "    'scaler__with_mean': [False, True],\n",
    "    'scaler__with_std': [False, True],\n",
    "    'clf__penalty': ['l1', 'l2'],\n",
    "    'clf__multi_class': ['ovr', 'multinomial'],\n",
    "    'clf__C': np.linspace(0, 2, 11),\n",
    "}\n",
    "scoring = make_scorer(f1_macro_score)\n",
    "cv = StratifiedKFold(n_splits=3)"
   ]
  },
  {
   "cell_type": "code",
   "execution_count": null,
   "metadata": {},
   "outputs": [],
   "source": [
    "grid = RandomizedSearchCV(\n",
    "    estimator=model_pipe,\n",
    "    param_distributions=param_grid,\n",
    "    n_iter=50,\n",
    "    scoring=scoring,\n",
    "    cv=cv,\n",
    "    verbose=1,\n",
    ")"
   ]
  },
  {
   "cell_type": "code",
   "execution_count": null,
   "metadata": {},
   "outputs": [],
   "source": [
    "%%time\n",
    "grid.fit(X_train, y_train)"
   ]
  },
  {
   "cell_type": "code",
   "execution_count": null,
   "metadata": {},
   "outputs": [],
   "source": [
    "print(f\"best f1-macro: {grid.best_score_}\")\n",
    "print(f\"best params: {grid.best_params_}\")"
   ]
  },
  {
   "cell_type": "code",
   "execution_count": null,
   "metadata": {},
   "outputs": [],
   "source": [
    "val_accuracy = accuracy_score(grid.predict(X_val), y_val)\n",
    "print(f\"validation accuracy: {val_accuracy}\")"
   ]
  },
  {
   "cell_type": "code",
   "execution_count": null,
   "metadata": {
    "scrolled": true
   },
   "outputs": [],
   "source": [
    "print(\n",
    "    classification_report(\n",
    "        y_true=y_val,\n",
    "        y_pred=grid.predict(X_val),\n",
    "    )\n",
    ")"
   ]
  },
  {
   "cell_type": "markdown",
   "metadata": {},
   "source": [
    "### OHE"
   ]
  },
  {
   "cell_type": "code",
   "execution_count": null,
   "metadata": {},
   "outputs": [],
   "source": [
    "ohe = OneHotEncoder(handle_unknown='ignore')"
   ]
  },
  {
   "cell_type": "code",
   "execution_count": null,
   "metadata": {},
   "outputs": [],
   "source": [
    "X_region_ohe = pd.DataFrame(\n",
    "    data=ohe.fit_transform(X[['region']]).toarray(),\n",
    "    columns=ohe.get_feature_names(),\n",
    "    index=X.index,\n",
    ")\n",
    "X_test_region_ohe = pd.DataFrame(\n",
    "    data=ohe.transform(X_test[['region']]).toarray(),\n",
    "    columns=ohe.get_feature_names(),\n",
    "    index=X_test.index,\n",
    ")"
   ]
  },
  {
   "cell_type": "code",
   "execution_count": null,
   "metadata": {},
   "outputs": [],
   "source": [
    "X_region_ohe.head()"
   ]
  },
  {
   "cell_type": "code",
   "execution_count": null,
   "metadata": {},
   "outputs": [],
   "source": [
    "X_region_ohe.shape"
   ]
  },
  {
   "cell_type": "code",
   "execution_count": null,
   "metadata": {},
   "outputs": [],
   "source": [
    "X_tree = pd.concat(\n",
    "    [X.drop(['region'], axis=1), X_region_ohe],\n",
    "    axis=1,\n",
    ")\n",
    "X_test_tree = pd.concat(\n",
    "    [X_test.drop(['region'], axis=1), X_test_region_ohe],\n",
    "    axis=1,\n",
    ")"
   ]
  },
  {
   "cell_type": "code",
   "execution_count": null,
   "metadata": {},
   "outputs": [],
   "source": [
    "X_tree.head()"
   ]
  },
  {
   "cell_type": "code",
   "execution_count": null,
   "metadata": {},
   "outputs": [],
   "source": [
    "X.shape, X_tree.shape"
   ]
  },
  {
   "cell_type": "markdown",
   "metadata": {},
   "source": [
    "### train/val"
   ]
  },
  {
   "cell_type": "code",
   "execution_count": null,
   "metadata": {},
   "outputs": [],
   "source": [
    "# train_test_split\n",
    "X_train_tree, X_val_tree, y_train, y_val_tree = train_test_split(\n",
    "    X_tree, y,\n",
    "    test_size=0.3,\n",
    "    shuffle=True,\n",
    "    stratify=y,\n",
    "    random_state=42,\n",
    ")"
   ]
  },
  {
   "cell_type": "markdown",
   "metadata": {},
   "source": [
    "### RF"
   ]
  },
  {
   "cell_type": "code",
   "execution_count": null,
   "metadata": {},
   "outputs": [],
   "source": [
    "rf = RandomForestClassifier()"
   ]
  },
  {
   "cell_type": "code",
   "execution_count": null,
   "metadata": {},
   "outputs": [],
   "source": [
    "rf.get_params()"
   ]
  },
  {
   "cell_type": "code",
   "execution_count": null,
   "metadata": {},
   "outputs": [],
   "source": [
    "param_grid = {\n",
    "    'max_depth': [None, 3, 5, 7, 9],\n",
    "    'n_estimators': [50, 100, 500],\n",
    "}\n",
    "scoring = make_scorer(f1_macro_score)\n",
    "cv = StratifiedKFold(n_splits=3)"
   ]
  },
  {
   "cell_type": "code",
   "execution_count": null,
   "metadata": {},
   "outputs": [],
   "source": [
    "grid = GridSearchCV(\n",
    "    estimator=rf,\n",
    "    param_distributions=param_grid,\n",
    "    scoring=scoring,\n",
    "    cv=cv,\n",
    "    verbose=1,\n",
    ")"
   ]
  },
  {
   "cell_type": "code",
   "execution_count": null,
   "metadata": {},
   "outputs": [],
   "source": [
    "%%time\n",
    "grid.fit(X_train, y_train)"
   ]
  },
  {
   "cell_type": "code",
   "execution_count": null,
   "metadata": {},
   "outputs": [],
   "source": [
    "print(f\"best f1-macro: {grid.best_score_}\")\n",
    "print(f\"best params: {grid.best_params_}\")"
   ]
  },
  {
   "cell_type": "code",
   "execution_count": null,
   "metadata": {},
   "outputs": [],
   "source": [
    "val_accuracy = accuracy_score(grid.predict(X_val), y_val)\n",
    "print(f\"validation accuracy: {val_accuracy}\")"
   ]
  },
  {
   "cell_type": "code",
   "execution_count": null,
   "metadata": {
    "scrolled": true
   },
   "outputs": [],
   "source": [
    "print(\n",
    "    classification_report(\n",
    "        y_true=y_val,\n",
    "        y_pred=grid.predict(X_val),\n",
    "    )\n",
    ")"
   ]
  },
  {
   "cell_type": "markdown",
   "metadata": {},
   "source": [
    "### XGB"
   ]
  },
  {
   "cell_type": "code",
   "execution_count": null,
   "metadata": {},
   "outputs": [],
   "source": [
    "xgb = XGBClassifier()"
   ]
  },
  {
   "cell_type": "code",
   "execution_count": null,
   "metadata": {},
   "outputs": [],
   "source": [
    "xgb.get_params()"
   ]
  },
  {
   "cell_type": "code",
   "execution_count": null,
   "metadata": {},
   "outputs": [],
   "source": [
    "param_grid = {\n",
    "    'max_depth': [2, 3, 5],\n",
    "    'n_estimators': [50, 100, 500],\n",
    "    'learning_rate': [0.1, 0.01, 0.001]\n",
    "}\n",
    "scoring = make_scorer(f1_macro_score)\n",
    "cv = StratifiedKFold(n_splits=3)"
   ]
  },
  {
   "cell_type": "code",
   "execution_count": null,
   "metadata": {},
   "outputs": [],
   "source": [
    "grid = GridSearchCV(\n",
    "    estimator=xgb,\n",
    "    param_distributions=param_grid,\n",
    "    scoring=scoring,\n",
    "    cv=cv,\n",
    "    verbose=1,\n",
    ")"
   ]
  },
  {
   "cell_type": "code",
   "execution_count": null,
   "metadata": {},
   "outputs": [],
   "source": [
    "%%time\n",
    "grid.fit(X_train, y_train)"
   ]
  },
  {
   "cell_type": "code",
   "execution_count": null,
   "metadata": {},
   "outputs": [],
   "source": [
    "print(f\"best f1-macro: {grid.best_score_}\")\n",
    "print(f\"best params: {grid.best_params_}\")"
   ]
  },
  {
   "cell_type": "code",
   "execution_count": null,
   "metadata": {},
   "outputs": [],
   "source": [
    "val_accuracy = accuracy_score(grid.predict(X_val), y_val)\n",
    "print(f\"validation accuracy: {val_accuracy}\")"
   ]
  },
  {
   "cell_type": "code",
   "execution_count": null,
   "metadata": {
    "scrolled": true
   },
   "outputs": [],
   "source": [
    "print(\n",
    "    classification_report(\n",
    "        y_true=y_val,\n",
    "        y_pred=grid.predict(X_val),\n",
    "    )\n",
    ")"
   ]
  },
  {
   "cell_type": "code",
   "execution_count": null,
   "metadata": {},
   "outputs": [],
   "source": []
  }
 ],
 "metadata": {
  "kernelspec": {
   "display_name": "Python 3",
   "language": "python",
   "name": "python3"
  },
  "language_info": {
   "codemirror_mode": {
    "name": "ipython",
    "version": 3
   },
   "file_extension": ".py",
   "mimetype": "text/x-python",
   "name": "python",
   "nbconvert_exporter": "python",
   "pygments_lexer": "ipython3",
   "version": "3.9.1"
  }
 },
 "nbformat": 4,
 "nbformat_minor": 2
}

{
 "cells": [
  {
   "cell_type": "code",
   "execution_count": 1,
   "metadata": {},
   "outputs": [],
   "source": [
    "import os\n",
    "import sys\n",
    "import pandas as pd"
   ]
  },
  {
   "cell_type": "code",
   "execution_count": 2,
   "metadata": {},
   "outputs": [],
   "source": [
    "import warnings\n",
    "warnings.filterwarnings(\"ignore\")"
   ]
  },
  {
   "cell_type": "code",
   "execution_count": 3,
   "metadata": {
    "scrolled": true
   },
   "outputs": [],
   "source": [
    "sys.path.append(\"../modules/bertwsi/\")\n",
    "\n",
    "from wsi.lm_bert import LMBert\n",
    "from wsi.wsi import perform_wsi_on_ds_gen\n",
    "from wsi.WSISettings import WSISettings"
   ]
  },
  {
   "cell_type": "code",
   "execution_count": 4,
   "metadata": {},
   "outputs": [],
   "source": [
    "def prepare_gen_data(row):\n",
    "    \n",
    "    start_idx, end_idx = [int(idx) for idx in row[\"positions\"].split('-')]\n",
    "    \n",
    "    pre = row[\"context\"][:start_idx].rstrip()\n",
    "    target = row[\"context\"][start_idx : end_idx + 1]\n",
    "    post = row[\"context\"][end_idx + 1:].lstrip()\n",
    "    inst_id = f\"{row['word']}.n.{row['context_id']}\"\n",
    "    \n",
    "    return pre, target, post, inst_id\n",
    "\n",
    "\n",
    "def get_clusters(inst_id_to_sense):\n",
    "    \n",
    "    clusters = {\n",
    "        sent_id: int(max(sent_senses, key=sent_senses.get).split('.')[-1]) + 1 for \\\n",
    "        sent_id, sent_senses in inst_id_to_sense.items()\n",
    "    }\n",
    "    \n",
    "    return clusters"
   ]
  },
  {
   "cell_type": "markdown",
   "metadata": {},
   "source": [
    "### init"
   ]
  },
  {
   "cell_type": "code",
   "execution_count": 5,
   "metadata": {},
   "outputs": [],
   "source": [
    "settings = WSISettings(\n",
    "    n_represents=15,\n",
    "    n_samples_per_rep=20,\n",
    "    cuda_device=-1,  # cpu\n",
    "    debug_dir=\"debug\",\n",
    "    disable_tfidf=False,\n",
    "    disable_lemmatization=False,\n",
    "    run_name=\"active-rutenten\",\n",
    "    patterns=[\n",
    "        (\"{pre} {target} (or even {mask_predict}) {post}\", 0.4),\n",
    "        (\"{pre} {target_predict} {post}\", 0.4),\n",
    "    ],\n",
    "    min_sense_instances=2,\n",
    "    bert_model=\"cointegrated/rubert-tiny\",\n",
    "    spacy_lang=\"../modules/spacy-ru/ru2\",\n",
    "    max_batch_size=10,\n",
    "    prediction_cutoff=200,\n",
    "    max_number_senses=7,\n",
    ")"
   ]
  },
  {
   "cell_type": "code",
   "execution_count": 6,
   "metadata": {},
   "outputs": [
    {
     "data": {
      "text/plain": [
       "WSISettings(n_represents=15, n_samples_per_rep=20, cuda_device=-1, debug_dir='debug', disable_tfidf=False, disable_lemmatization=False, run_name='active-rutenten', patterns=[('{pre} {target} (or even {mask_predict}) {post}', 0.4), ('{pre} {target_predict} {post}', 0.4)], min_sense_instances=2, bert_model='cointegrated/rubert-tiny', spacy_lang='../modules/spacy-ru/ru2', max_batch_size=10, prediction_cutoff=200, max_number_senses=7)"
      ]
     },
     "execution_count": 6,
     "metadata": {},
     "output_type": "execute_result"
    }
   ],
   "source": [
    "settings"
   ]
  },
  {
   "cell_type": "code",
   "execution_count": 7,
   "metadata": {},
   "outputs": [
    {
     "name": "stderr",
     "output_type": "stream",
     "text": [
      "Some weights of the model checkpoint at cointegrated/rubert-tiny were not used when initializing BertForMaskedLM: ['cls.seq_relationship.weight', 'cls.seq_relationship.bias']\n",
      "- This IS expected if you are initializing BertForMaskedLM from the checkpoint of a model trained on another task or with another architecture (e.g. initializing a BertForSequenceClassification model from a BertForPreTraining model).\n",
      "- This IS NOT expected if you are initializing BertForMaskedLM from the checkpoint of a model that you expect to be exactly identical (initializing a BertForSequenceClassification model from a BertForSequenceClassification model).\n",
      "lemmatizing vocab: 100%|██████████| 29564/29564 [00:12<00:00, 2339.55it/s]\n"
     ]
    }
   ],
   "source": [
    "lm = LMBert(\n",
    "    cuda_device=settings.cuda_device,\n",
    "    bert_model=settings.bert_model,\n",
    "    spacy_lang=settings.spacy_lang,\n",
    "    max_batch_size=settings.max_batch_size,\n",
    ")"
   ]
  },
  {
   "cell_type": "code",
   "execution_count": 8,
   "metadata": {},
   "outputs": [],
   "source": [
    "if settings.debug_dir:\n",
    "    if not os.path.exists(settings.debug_dir):\n",
    "        os.makedirs(settings.debug_dir)"
   ]
  },
  {
   "cell_type": "markdown",
   "metadata": {},
   "source": [
    "### prepare data"
   ]
  },
  {
   "cell_type": "code",
   "execution_count": 9,
   "metadata": {},
   "outputs": [],
   "source": [
    "data = pd.read_csv(\n",
    "    \"../data/russe-wsi-kit/data/additional/active-rutenten/train.csv\",\n",
    "    sep=\"\\t\",\n",
    ")"
   ]
  },
  {
   "cell_type": "code",
   "execution_count": 10,
   "metadata": {},
   "outputs": [
    {
     "data": {
      "text/html": [
       "<div>\n",
       "<style scoped>\n",
       "    .dataframe tbody tr th:only-of-type {\n",
       "        vertical-align: middle;\n",
       "    }\n",
       "\n",
       "    .dataframe tbody tr th {\n",
       "        vertical-align: top;\n",
       "    }\n",
       "\n",
       "    .dataframe thead th {\n",
       "        text-align: right;\n",
       "    }\n",
       "</style>\n",
       "<table border=\"1\" class=\"dataframe\">\n",
       "  <thead>\n",
       "    <tr style=\"text-align: right;\">\n",
       "      <th></th>\n",
       "      <th>context_id</th>\n",
       "      <th>word</th>\n",
       "      <th>gold_sense_id</th>\n",
       "      <th>predict_sense_id</th>\n",
       "      <th>positions</th>\n",
       "      <th>context</th>\n",
       "    </tr>\n",
       "  </thead>\n",
       "  <tbody>\n",
       "    <tr>\n",
       "      <th>0</th>\n",
       "      <td>1</td>\n",
       "      <td>альбом</td>\n",
       "      <td>2</td>\n",
       "      <td>NaN</td>\n",
       "      <td>88-94</td>\n",
       "      <td>достаточно лишь колесиком мышки крутить вниз. ...</td>\n",
       "    </tr>\n",
       "    <tr>\n",
       "      <th>1</th>\n",
       "      <td>2</td>\n",
       "      <td>альбом</td>\n",
       "      <td>3</td>\n",
       "      <td>NaN</td>\n",
       "      <td>85-91</td>\n",
       "      <td>выступал в составе команды с таким названием, ...</td>\n",
       "    </tr>\n",
       "    <tr>\n",
       "      <th>2</th>\n",
       "      <td>3</td>\n",
       "      <td>альбом</td>\n",
       "      <td>2</td>\n",
       "      <td>NaN</td>\n",
       "      <td>81-87</td>\n",
       "      <td>. Работает так себе, поскольку функция заточен...</td>\n",
       "    </tr>\n",
       "    <tr>\n",
       "      <th>3</th>\n",
       "      <td>4</td>\n",
       "      <td>альбом</td>\n",
       "      <td>3</td>\n",
       "      <td>NaN</td>\n",
       "      <td>84-89</td>\n",
       "      <td>одержала победу в двух из пяти номинаций: 'Луч...</td>\n",
       "    </tr>\n",
       "    <tr>\n",
       "      <th>4</th>\n",
       "      <td>5</td>\n",
       "      <td>альбом</td>\n",
       "      <td>3</td>\n",
       "      <td>NaN</td>\n",
       "      <td>83-88</td>\n",
       "      <td>встречи с Божественным. Вы испытаете ни с чем ...</td>\n",
       "    </tr>\n",
       "  </tbody>\n",
       "</table>\n",
       "</div>"
      ],
      "text/plain": [
       "   context_id    word  gold_sense_id  predict_sense_id positions  \\\n",
       "0           1  альбом              2               NaN     88-94   \n",
       "1           2  альбом              3               NaN     85-91   \n",
       "2           3  альбом              2               NaN     81-87   \n",
       "3           4  альбом              3               NaN     84-89   \n",
       "4           5  альбом              3               NaN     83-88   \n",
       "\n",
       "                                             context  \n",
       "0  достаточно лишь колесиком мышки крутить вниз. ...  \n",
       "1  выступал в составе команды с таким названием, ...  \n",
       "2  . Работает так себе, поскольку функция заточен...  \n",
       "3  одержала победу в двух из пяти номинаций: 'Луч...  \n",
       "4  встречи с Божественным. Вы испытаете ни с чем ...  "
      ]
     },
     "execution_count": 10,
     "metadata": {},
     "output_type": "execute_result"
    }
   ],
   "source": [
    "data.head()"
   ]
  },
  {
   "cell_type": "code",
   "execution_count": 11,
   "metadata": {},
   "outputs": [],
   "source": [
    "gen = data.apply(prepare_gen_data, axis=1).to_list()"
   ]
  },
  {
   "cell_type": "code",
   "execution_count": 12,
   "metadata": {
    "scrolled": true
   },
   "outputs": [
    {
     "data": {
      "text/plain": [
       "[('достаточно лишь колесиком мышки крутить вниз. И если вы захотите увеличить фотографию в',\n",
       "  'альбоме',\n",
       "  ', то все следующие фотографии будут также отображаться в полноразмерном варианте',\n",
       "  'альбом.n.1'),\n",
       " ('выступал в составе команды с таким названием, однако тогда бэнд не записал ни одного',\n",
       "  'альбома',\n",
       "  '. В прошлом году Плант снова собрал коллектив Band of Joy и записал с этими музыкантами',\n",
       "  'альбом.n.2'),\n",
       " ('. Работает так себе, поскольку функция заточена под банальные фотки из семейного',\n",
       "  'альбома',\n",
       "  ', а-ля «я и Эйфелева башня», где люди стоят анфас в центре кадра и смотрят в камеру',\n",
       "  'альбом.n.3'),\n",
       " (\"одержала победу в двух из пяти номинаций: 'Лучший танцевальный хит' и “Танцевальный\",\n",
       "  'альбом',\n",
       "  \"года'. В марте 2010 года певица объявила, что начала работать над своим новым студийным\",\n",
       "  'альбом.n.4'),\n",
       " ('встречи с Божественным. Вы испытаете ни с чем не сравнимое блаженство, слушая этот',\n",
       "  'альбом',\n",
       "  'во время занятий йогой или принимая сеанс массажа. Эк...',\n",
       "  'альбом.n.5')]"
      ]
     },
     "execution_count": 12,
     "metadata": {},
     "output_type": "execute_result"
    }
   ],
   "source": [
    "gen[:5]"
   ]
  },
  {
   "cell_type": "markdown",
   "metadata": {},
   "source": [
    "### word sense induction"
   ]
  },
  {
   "cell_type": "code",
   "execution_count": 13,
   "metadata": {
    "scrolled": true
   },
   "outputs": [
    {
     "name": "stderr",
     "output_type": "stream",
     "text": [
      "predicting substitutes active-rutenten: 100%|██████████| 20/20 [02:53<00:00,  8.69s/it]"
     ]
    },
    {
     "name": "stdout",
     "output_type": "stream",
     "text": [
      "writing active-rutenten key file to debug/active-rutenten-active-rutenten.key\n"
     ]
    },
    {
     "name": "stderr",
     "output_type": "stream",
     "text": [
      "\n"
     ]
    }
   ],
   "source": [
    "inst_id_to_sense = perform_wsi_on_ds_gen(\n",
    "    lm=lm,\n",
    "    ds_name=\"active-rutenten\",\n",
    "    gen=gen,\n",
    "    wsisettings=settings,\n",
    "    print_progress=True,\n",
    ")"
   ]
  },
  {
   "cell_type": "code",
   "execution_count": 14,
   "metadata": {},
   "outputs": [],
   "source": [
    "clusters = get_clusters(inst_id_to_sense)"
   ]
  },
  {
   "cell_type": "code",
   "execution_count": 15,
   "metadata": {},
   "outputs": [],
   "source": [
    "data[\"predict_sense_id\"] = data.apply(\n",
    "    lambda row: clusters[f\"{row['word']}.n.{row['context_id']}\"],\n",
    "    axis=1,\n",
    ")"
   ]
  },
  {
   "cell_type": "code",
   "execution_count": 16,
   "metadata": {},
   "outputs": [
    {
     "data": {
      "text/html": [
       "<div>\n",
       "<style scoped>\n",
       "    .dataframe tbody tr th:only-of-type {\n",
       "        vertical-align: middle;\n",
       "    }\n",
       "\n",
       "    .dataframe tbody tr th {\n",
       "        vertical-align: top;\n",
       "    }\n",
       "\n",
       "    .dataframe thead th {\n",
       "        text-align: right;\n",
       "    }\n",
       "</style>\n",
       "<table border=\"1\" class=\"dataframe\">\n",
       "  <thead>\n",
       "    <tr style=\"text-align: right;\">\n",
       "      <th></th>\n",
       "      <th>context_id</th>\n",
       "      <th>word</th>\n",
       "      <th>gold_sense_id</th>\n",
       "      <th>predict_sense_id</th>\n",
       "      <th>positions</th>\n",
       "      <th>context</th>\n",
       "    </tr>\n",
       "  </thead>\n",
       "  <tbody>\n",
       "    <tr>\n",
       "      <th>0</th>\n",
       "      <td>1</td>\n",
       "      <td>альбом</td>\n",
       "      <td>2</td>\n",
       "      <td>2</td>\n",
       "      <td>88-94</td>\n",
       "      <td>достаточно лишь колесиком мышки крутить вниз. ...</td>\n",
       "    </tr>\n",
       "    <tr>\n",
       "      <th>1</th>\n",
       "      <td>2</td>\n",
       "      <td>альбом</td>\n",
       "      <td>3</td>\n",
       "      <td>2</td>\n",
       "      <td>85-91</td>\n",
       "      <td>выступал в составе команды с таким названием, ...</td>\n",
       "    </tr>\n",
       "    <tr>\n",
       "      <th>2</th>\n",
       "      <td>3</td>\n",
       "      <td>альбом</td>\n",
       "      <td>2</td>\n",
       "      <td>2</td>\n",
       "      <td>81-87</td>\n",
       "      <td>. Работает так себе, поскольку функция заточен...</td>\n",
       "    </tr>\n",
       "    <tr>\n",
       "      <th>3</th>\n",
       "      <td>4</td>\n",
       "      <td>альбом</td>\n",
       "      <td>3</td>\n",
       "      <td>2</td>\n",
       "      <td>84-89</td>\n",
       "      <td>одержала победу в двух из пяти номинаций: 'Луч...</td>\n",
       "    </tr>\n",
       "    <tr>\n",
       "      <th>4</th>\n",
       "      <td>5</td>\n",
       "      <td>альбом</td>\n",
       "      <td>3</td>\n",
       "      <td>2</td>\n",
       "      <td>83-88</td>\n",
       "      <td>встречи с Божественным. Вы испытаете ни с чем ...</td>\n",
       "    </tr>\n",
       "  </tbody>\n",
       "</table>\n",
       "</div>"
      ],
      "text/plain": [
       "   context_id    word  gold_sense_id  predict_sense_id positions  \\\n",
       "0           1  альбом              2                 2     88-94   \n",
       "1           2  альбом              3                 2     85-91   \n",
       "2           3  альбом              2                 2     81-87   \n",
       "3           4  альбом              3                 2     84-89   \n",
       "4           5  альбом              3                 2     83-88   \n",
       "\n",
       "                                             context  \n",
       "0  достаточно лишь колесиком мышки крутить вниз. ...  \n",
       "1  выступал в составе команды с таким названием, ...  \n",
       "2  . Работает так себе, поскольку функция заточен...  \n",
       "3  одержала победу в двух из пяти номинаций: 'Луч...  \n",
       "4  встречи с Божественным. Вы испытаете ни с чем ...  "
      ]
     },
     "execution_count": 16,
     "metadata": {},
     "output_type": "execute_result"
    }
   ],
   "source": [
    "data.head()"
   ]
  },
  {
   "cell_type": "code",
   "execution_count": 17,
   "metadata": {},
   "outputs": [],
   "source": [
    "data.to_csv(\n",
    "    \"predictions/bert_wsi_prediction.tsv\",\n",
    "    sep=\"\\t\",\n",
    "    index=False,\n",
    ")"
   ]
  },
  {
   "cell_type": "markdown",
   "metadata": {},
   "source": [
    "### validate"
   ]
  },
  {
   "cell_type": "code",
   "execution_count": 18,
   "metadata": {
    "scrolled": true
   },
   "outputs": [
    {
     "name": "stdout",
     "output_type": "stream",
     "text": [
      "word\tari\tcount\r\n",
      "альбом\t-0.006816\t450\r\n",
      "анатомия\t0.041973\t95\r\n",
      "базар\t0.000000\t90\r\n",
      "балет\t-0.046736\t94\r\n",
      "беда\t0.000000\t93\r\n",
      "бездна\t0.000000\t87\r\n",
      "билет\t-0.031509\t447\r\n",
      "блок\t-0.000509\t206\r\n",
      "блоха\t0.205132\t86\r\n",
      "брак\t0.036957\t96\r\n",
      "бритва\t0.000000\t85\r\n",
      "будущее\t0.018825\t83\r\n",
      "вешалка\t-0.005139\t390\r\n",
      "вилка\t0.085528\t302\r\n",
      "винт\t-0.001541\t358\r\n",
      "галерея\t-0.119827\t24\r\n",
      "горбуша\t0.000000\t93\r\n",
      "горшок\t0.001628\t406\r\n",
      "гроза\t0.040910\t95\r\n",
      "группа\t-0.002265\t91\r\n",
      "\t0.008125\t3671\r\n"
     ]
    }
   ],
   "source": [
    "!python3 ../data/russe-wsi-kit/evaluate.py predictions/bert_wsi_prediction.tsv"
   ]
  },
  {
   "cell_type": "code",
   "execution_count": null,
   "metadata": {},
   "outputs": [],
   "source": []
  }
 ],
 "metadata": {
  "kernelspec": {
   "display_name": "Python 3",
   "language": "python",
   "name": "python3"
  },
  "language_info": {
   "codemirror_mode": {
    "name": "ipython",
    "version": 3
   },
   "file_extension": ".py",
   "mimetype": "text/x-python",
   "name": "python",
   "nbconvert_exporter": "python",
   "pygments_lexer": "ipython3",
   "version": "3.7.5"
  }
 },
 "nbformat": 4,
 "nbformat_minor": 4
}

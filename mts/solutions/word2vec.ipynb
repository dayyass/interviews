{
 "cells": [
  {
   "cell_type": "code",
   "execution_count": 1,
   "metadata": {
    "scrolled": true
   },
   "outputs": [
    {
     "name": "stderr",
     "output_type": "stream",
     "text": [
      "/Users/dayyass/Desktop/ml_interviews/mts/venv/lib/python3.7/site-packages/gensim/similarities/__init__.py:15: UserWarning: The gensim.similarities.levenshtein submodule is disabled, because the optional Levenshtein package <https://pypi.org/project/python-Levenshtein/> is unavailable. Install Levenhstein (e.g. `pip install python-Levenshtein`) to suppress this warning.\n",
      "  warnings.warn(msg)\n"
     ]
    }
   ],
   "source": [
    "import numpy as np\n",
    "import pandas as pd\n",
    "from sklearn.metrics.pairwise import cosine_similarity\n",
    "\n",
    "import re\n",
    "import nltk\n",
    "from pymystem3 import Mystem\n",
    "from gensim.models import KeyedVectors"
   ]
  },
  {
   "cell_type": "code",
   "execution_count": 2,
   "metadata": {},
   "outputs": [],
   "source": [
    "import warnings\n",
    "warnings.filterwarnings(\"ignore\")"
   ]
  },
  {
   "cell_type": "markdown",
   "metadata": {},
   "source": [
    "### load data"
   ]
  },
  {
   "cell_type": "code",
   "execution_count": 3,
   "metadata": {},
   "outputs": [],
   "source": [
    "data = pd.read_csv(\n",
    "    \"../data/russe-wsi-kit/data/additional/active-rutenten/train.csv\",\n",
    "    sep=\"\\t\",\n",
    ")"
   ]
  },
  {
   "cell_type": "code",
   "execution_count": 4,
   "metadata": {},
   "outputs": [
    {
     "data": {
      "text/html": [
       "<div>\n",
       "<style scoped>\n",
       "    .dataframe tbody tr th:only-of-type {\n",
       "        vertical-align: middle;\n",
       "    }\n",
       "\n",
       "    .dataframe tbody tr th {\n",
       "        vertical-align: top;\n",
       "    }\n",
       "\n",
       "    .dataframe thead th {\n",
       "        text-align: right;\n",
       "    }\n",
       "</style>\n",
       "<table border=\"1\" class=\"dataframe\">\n",
       "  <thead>\n",
       "    <tr style=\"text-align: right;\">\n",
       "      <th></th>\n",
       "      <th>context_id</th>\n",
       "      <th>word</th>\n",
       "      <th>gold_sense_id</th>\n",
       "      <th>predict_sense_id</th>\n",
       "      <th>positions</th>\n",
       "      <th>context</th>\n",
       "    </tr>\n",
       "  </thead>\n",
       "  <tbody>\n",
       "    <tr>\n",
       "      <th>0</th>\n",
       "      <td>1</td>\n",
       "      <td>альбом</td>\n",
       "      <td>2</td>\n",
       "      <td>NaN</td>\n",
       "      <td>88-94</td>\n",
       "      <td>достаточно лишь колесиком мышки крутить вниз. ...</td>\n",
       "    </tr>\n",
       "    <tr>\n",
       "      <th>1</th>\n",
       "      <td>2</td>\n",
       "      <td>альбом</td>\n",
       "      <td>3</td>\n",
       "      <td>NaN</td>\n",
       "      <td>85-91</td>\n",
       "      <td>выступал в составе команды с таким названием, ...</td>\n",
       "    </tr>\n",
       "    <tr>\n",
       "      <th>2</th>\n",
       "      <td>3</td>\n",
       "      <td>альбом</td>\n",
       "      <td>2</td>\n",
       "      <td>NaN</td>\n",
       "      <td>81-87</td>\n",
       "      <td>. Работает так себе, поскольку функция заточен...</td>\n",
       "    </tr>\n",
       "    <tr>\n",
       "      <th>3</th>\n",
       "      <td>4</td>\n",
       "      <td>альбом</td>\n",
       "      <td>3</td>\n",
       "      <td>NaN</td>\n",
       "      <td>84-89</td>\n",
       "      <td>одержала победу в двух из пяти номинаций: 'Луч...</td>\n",
       "    </tr>\n",
       "    <tr>\n",
       "      <th>4</th>\n",
       "      <td>5</td>\n",
       "      <td>альбом</td>\n",
       "      <td>3</td>\n",
       "      <td>NaN</td>\n",
       "      <td>83-88</td>\n",
       "      <td>встречи с Божественным. Вы испытаете ни с чем ...</td>\n",
       "    </tr>\n",
       "  </tbody>\n",
       "</table>\n",
       "</div>"
      ],
      "text/plain": [
       "   context_id    word  gold_sense_id  predict_sense_id positions  \\\n",
       "0           1  альбом              2               NaN     88-94   \n",
       "1           2  альбом              3               NaN     85-91   \n",
       "2           3  альбом              2               NaN     81-87   \n",
       "3           4  альбом              3               NaN     84-89   \n",
       "4           5  альбом              3               NaN     83-88   \n",
       "\n",
       "                                             context  \n",
       "0  достаточно лишь колесиком мышки крутить вниз. ...  \n",
       "1  выступал в составе команды с таким названием, ...  \n",
       "2  . Работает так себе, поскольку функция заточен...  \n",
       "3  одержала победу в двух из пяти номинаций: 'Луч...  \n",
       "4  встречи с Божественным. Вы испытаете ни с чем ...  "
      ]
     },
     "execution_count": 4,
     "metadata": {},
     "output_type": "execute_result"
    }
   ],
   "source": [
    "data.head()"
   ]
  },
  {
   "cell_type": "markdown",
   "metadata": {},
   "source": [
    "### init model"
   ]
  },
  {
   "cell_type": "code",
   "execution_count": 5,
   "metadata": {},
   "outputs": [],
   "source": [
    "stemmer = Mystem()\n",
    "\n",
    "embedder = KeyedVectors.load_word2vec_format(\n",
    "    \"../modules/ruscorpora_mean_hs.model.bin.gz\",\n",
    "    binary=True,\n",
    ")"
   ]
  },
  {
   "cell_type": "code",
   "execution_count": 6,
   "metadata": {},
   "outputs": [],
   "source": [
    "stopwords = nltk.corpus.stopwords.words(\"russian\")"
   ]
  },
  {
   "cell_type": "markdown",
   "metadata": {},
   "source": [
    "### find senses"
   ]
  },
  {
   "cell_type": "code",
   "execution_count": 7,
   "metadata": {},
   "outputs": [],
   "source": [
    "sense_1 = {\n",
    "    word: embedder.most_similar(\n",
    "        positive=[f\"{word}_S\"],\n",
    "        topn=1,\n",
    "    )[0][0] \\\n",
    "    for word in data['word'].unique()\n",
    "}"
   ]
  },
  {
   "cell_type": "code",
   "execution_count": 8,
   "metadata": {},
   "outputs": [],
   "source": [
    "sense_2 = {\n",
    "    word: embedder.most_similar(\n",
    "        positive=[f\"{word}_S\"],\n",
    "        negative=[sense_1[word]],\n",
    "        topn=1,\n",
    "    )[0][0] \\\n",
    "    for word in data['word'].unique()\n",
    "}"
   ]
  },
  {
   "cell_type": "code",
   "execution_count": 9,
   "metadata": {},
   "outputs": [],
   "source": [
    "data['sense_1'] = data['word'].replace(sense_1)\n",
    "data['sense_2'] = data['word'].replace(sense_2)"
   ]
  },
  {
   "cell_type": "code",
   "execution_count": 10,
   "metadata": {},
   "outputs": [
    {
     "data": {
      "text/html": [
       "<div>\n",
       "<style scoped>\n",
       "    .dataframe tbody tr th:only-of-type {\n",
       "        vertical-align: middle;\n",
       "    }\n",
       "\n",
       "    .dataframe tbody tr th {\n",
       "        vertical-align: top;\n",
       "    }\n",
       "\n",
       "    .dataframe thead th {\n",
       "        text-align: right;\n",
       "    }\n",
       "</style>\n",
       "<table border=\"1\" class=\"dataframe\">\n",
       "  <thead>\n",
       "    <tr style=\"text-align: right;\">\n",
       "      <th></th>\n",
       "      <th>context_id</th>\n",
       "      <th>word</th>\n",
       "      <th>gold_sense_id</th>\n",
       "      <th>predict_sense_id</th>\n",
       "      <th>positions</th>\n",
       "      <th>context</th>\n",
       "      <th>sense_1</th>\n",
       "      <th>sense_2</th>\n",
       "    </tr>\n",
       "  </thead>\n",
       "  <tbody>\n",
       "    <tr>\n",
       "      <th>0</th>\n",
       "      <td>1</td>\n",
       "      <td>альбом</td>\n",
       "      <td>2</td>\n",
       "      <td>NaN</td>\n",
       "      <td>88-94</td>\n",
       "      <td>достаточно лишь колесиком мышки крутить вниз. ...</td>\n",
       "      <td>фотография_S</td>\n",
       "      <td>сборник_S</td>\n",
       "    </tr>\n",
       "    <tr>\n",
       "      <th>450</th>\n",
       "      <td>451</td>\n",
       "      <td>анатомия</td>\n",
       "      <td>2</td>\n",
       "      <td>NaN</td>\n",
       "      <td>106-113</td>\n",
       "      <td>способна улучшить Ваш сон и самочувствие после...</td>\n",
       "      <td>физиология_S</td>\n",
       "      <td>глузский_A</td>\n",
       "    </tr>\n",
       "    <tr>\n",
       "      <th>545</th>\n",
       "      <td>546</td>\n",
       "      <td>базар</td>\n",
       "      <td>1</td>\n",
       "      <td>NaN</td>\n",
       "      <td>8-12</td>\n",
       "      <td>&lt;/p&gt;&lt;p&gt; Базар - известный центр всех экспедици...</td>\n",
       "      <td>толкучка_S</td>\n",
       "      <td>общеиндоевропейский_A</td>\n",
       "    </tr>\n",
       "    <tr>\n",
       "      <th>635</th>\n",
       "      <td>636</td>\n",
       "      <td>балет</td>\n",
       "      <td>3</td>\n",
       "      <td>NaN</td>\n",
       "      <td>101-106</td>\n",
       "      <td>декабря в Новосибирском государственном академ...</td>\n",
       "      <td>оперетта_S</td>\n",
       "      <td>alisa_UNKN</td>\n",
       "    </tr>\n",
       "    <tr>\n",
       "      <th>729</th>\n",
       "      <td>730</td>\n",
       "      <td>беда</td>\n",
       "      <td>2</td>\n",
       "      <td>NaN</td>\n",
       "      <td>86-89</td>\n",
       "      <td>защемило в душе по поводу провала Хмары и Луцк...</td>\n",
       "      <td>несчастие_S</td>\n",
       "      <td>видать_ADV</td>\n",
       "    </tr>\n",
       "  </tbody>\n",
       "</table>\n",
       "</div>"
      ],
      "text/plain": [
       "     context_id      word  gold_sense_id  predict_sense_id positions  \\\n",
       "0             1    альбом              2               NaN     88-94   \n",
       "450         451  анатомия              2               NaN   106-113   \n",
       "545         546     базар              1               NaN      8-12   \n",
       "635         636     балет              3               NaN   101-106   \n",
       "729         730      беда              2               NaN     86-89   \n",
       "\n",
       "                                               context       sense_1  \\\n",
       "0    достаточно лишь колесиком мышки крутить вниз. ...  фотография_S   \n",
       "450  способна улучшить Ваш сон и самочувствие после...  физиология_S   \n",
       "545  </p><p> Базар - известный центр всех экспедици...    толкучка_S   \n",
       "635  декабря в Новосибирском государственном академ...    оперетта_S   \n",
       "729  защемило в душе по поводу провала Хмары и Луцк...   несчастие_S   \n",
       "\n",
       "                   sense_2  \n",
       "0                сборник_S  \n",
       "450             глузский_A  \n",
       "545  общеиндоевропейский_A  \n",
       "635             alisa_UNKN  \n",
       "729             видать_ADV  "
      ]
     },
     "execution_count": 10,
     "metadata": {},
     "output_type": "execute_result"
    }
   ],
   "source": [
    "# check senses for different words\n",
    "data.drop_duplicates(['word']).head()"
   ]
  },
  {
   "cell_type": "code",
   "execution_count": 11,
   "metadata": {},
   "outputs": [],
   "source": [
    "def get_lemma_and_pos_tag_from_word_analysis(token_analysis):\n",
    "    \n",
    "    lemma = token_analysis[\"analysis\"][0][\"lex\"]\n",
    "    pos_tag = token_analysis[\"analysis\"][0][\"gr\"].split(\",\")[0].split(\"=\")[0]\n",
    "    \n",
    "    return lemma, pos_tag\n",
    "\n",
    "\n",
    "def embed_context(\n",
    "    context,\n",
    "    target_word=None,\n",
    "    re_pattern=\"[\\w\\-]+$\",\n",
    "    stopwords=stopwords,\n",
    "    stemmer=stemmer,\n",
    "    embedder=embedder,\n",
    "):\n",
    "    \n",
    "    tokens = []\n",
    "    \n",
    "    analysis = stemmer.analyze(context)\n",
    "    \n",
    "    for token_analysis in analysis:\n",
    "        if (\"analysis\" in token_analysis) and (len(token_analysis['analysis']) > 0):\n",
    "            lemma, pos_tag = get_lemma_and_pos_tag_from_word_analysis(token_analysis)\n",
    "            token = f\"{lemma}_{pos_tag}\"\n",
    "        \n",
    "            if re.match(re_pattern, lemma) and (lemma not in stopwords):\n",
    "                tokens.append(token)\n",
    "    \n",
    "    cnt = 0\n",
    "    embedding = np.zeros(300)\n",
    "    \n",
    "    for token in tokens:\n",
    "        \n",
    "        # skip target word\n",
    "        if target_word:\n",
    "            if token == f\"{target_word}_S\":\n",
    "                continue\n",
    "        \n",
    "        if token in embedder:\n",
    "            cnt += 1\n",
    "            embedding += embedder[token]\n",
    "    \n",
    "    return embedding / cnt"
   ]
  },
  {
   "cell_type": "code",
   "execution_count": 12,
   "metadata": {},
   "outputs": [],
   "source": [
    "data[\"predict_sense_id\"] = data.apply(\n",
    "    lambda row: 1 + np.argmax([\n",
    "        cosine_similarity(\n",
    "            X=[\n",
    "                embed_context(\n",
    "                    context=row[\"context\"],\n",
    "                    target_word=row[\"word\"],\n",
    "                )\n",
    "            ],\n",
    "            Y=[\n",
    "                embedder[row[\"sense_1\"]],\n",
    "                embedder[row[\"sense_2\"]],\n",
    "            ])[0]\n",
    "    ]),\n",
    "    axis=1,\n",
    ")"
   ]
  },
  {
   "cell_type": "code",
   "execution_count": 13,
   "metadata": {},
   "outputs": [
    {
     "data": {
      "text/plain": [
       "1    2387\n",
       "2    1284\n",
       "Name: predict_sense_id, dtype: int64"
      ]
     },
     "execution_count": 13,
     "metadata": {},
     "output_type": "execute_result"
    }
   ],
   "source": [
    "data['predict_sense_id'].value_counts()"
   ]
  },
  {
   "cell_type": "code",
   "execution_count": 14,
   "metadata": {},
   "outputs": [],
   "source": [
    "data.drop([\"sense_1\", \"sense_2\"], axis=1, inplace=True)"
   ]
  },
  {
   "cell_type": "code",
   "execution_count": 15,
   "metadata": {},
   "outputs": [],
   "source": [
    "data.to_csv(\n",
    "    \"predictions/word2vec_prediction.tsv\",\n",
    "    sep=\"\\t\",\n",
    "    index=False,\n",
    ")"
   ]
  },
  {
   "cell_type": "markdown",
   "metadata": {},
   "source": [
    "### valudate"
   ]
  },
  {
   "cell_type": "code",
   "execution_count": 16,
   "metadata": {},
   "outputs": [
    {
     "name": "stdout",
     "output_type": "stream",
     "text": [
      "word\tari\tcount\r\n",
      "альбом\t0.145914\t450\r\n",
      "анатомия\t0.081825\t95\r\n",
      "базар\t0.099206\t90\r\n",
      "балет\t0.008901\t94\r\n",
      "беда\t-0.014507\t93\r\n",
      "бездна\t-0.015271\t87\r\n",
      "билет\t-0.008388\t447\r\n",
      "блок\t0.038104\t206\r\n",
      "блоха\t0.220007\t86\r\n",
      "брак\t0.372598\t96\r\n",
      "бритва\t-0.011365\t85\r\n",
      "будущее\t-0.035580\t83\r\n",
      "вешалка\t-0.014867\t390\r\n",
      "вилка\t0.011303\t302\r\n",
      "винт\t0.354304\t358\r\n",
      "галерея\t0.221791\t24\r\n",
      "горбуша\t-0.008748\t93\r\n",
      "горшок\t0.082218\t406\r\n",
      "гроза\t0.099304\t95\r\n",
      "группа\t0.027579\t91\r\n",
      "\t0.084359\t3671\r\n"
     ]
    }
   ],
   "source": [
    "!python3 ../data/russe-wsi-kit/evaluate.py predictions/word2vec_prediction.tsv"
   ]
  },
  {
   "cell_type": "code",
   "execution_count": null,
   "metadata": {},
   "outputs": [],
   "source": []
  }
 ],
 "metadata": {
  "kernelspec": {
   "display_name": "Python 3",
   "language": "python",
   "name": "python3"
  },
  "language_info": {
   "codemirror_mode": {
    "name": "ipython",
    "version": 3
   },
   "file_extension": ".py",
   "mimetype": "text/x-python",
   "name": "python",
   "nbconvert_exporter": "python",
   "pygments_lexer": "ipython3",
   "version": "3.7.5"
  }
 },
 "nbformat": 4,
 "nbformat_minor": 4
}

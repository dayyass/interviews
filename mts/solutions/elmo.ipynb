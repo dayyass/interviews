{
 "cells": [
  {
   "cell_type": "code",
   "execution_count": 1,
   "metadata": {
    "scrolled": true
   },
   "outputs": [
    {
     "name": "stderr",
     "output_type": "stream",
     "text": [
      "/Users/dayyass/Desktop/ml_interviews/mts/venv/lib/python3.7/site-packages/gensim/similarities/__init__.py:15: UserWarning: The gensim.similarities.levenshtein submodule is disabled, because the optional Levenshtein package <https://pypi.org/project/python-Levenshtein/> is unavailable. Install Levenhstein (e.g. `pip install python-Levenshtein`) to suppress this warning.\n",
      "  warnings.warn(msg)\n"
     ]
    }
   ],
   "source": [
    "import numpy as np\n",
    "import pandas as pd\n",
    "\n",
    "import re\n",
    "import nltk\n",
    "import gensim\n",
    "from pymystem3 import Mystem\n",
    "\n",
    "from sklearn.cluster import KMeans\n",
    "from sklearn.decomposition import TruncatedSVD"
   ]
  },
  {
   "cell_type": "code",
   "execution_count": 2,
   "metadata": {},
   "outputs": [],
   "source": [
    "import warnings\n",
    "warnings.filterwarnings(\"ignore\")"
   ]
  },
  {
   "cell_type": "code",
   "execution_count": 3,
   "metadata": {},
   "outputs": [],
   "source": [
    "import sys\n",
    "sys.path.append(\"../modules/simple_elmo/\")\n",
    "\n",
    "from simple_elmo import ElmoModel"
   ]
  },
  {
   "cell_type": "markdown",
   "metadata": {},
   "source": [
    "### load data"
   ]
  },
  {
   "cell_type": "code",
   "execution_count": 4,
   "metadata": {},
   "outputs": [],
   "source": [
    "data = pd.read_csv(\n",
    "    \"../data/russe-wsi-kit/data/additional/active-rutenten/train.csv\",\n",
    "    sep=\"\\t\",\n",
    ")"
   ]
  },
  {
   "cell_type": "code",
   "execution_count": 5,
   "metadata": {},
   "outputs": [
    {
     "data": {
      "text/html": [
       "<div>\n",
       "<style scoped>\n",
       "    .dataframe tbody tr th:only-of-type {\n",
       "        vertical-align: middle;\n",
       "    }\n",
       "\n",
       "    .dataframe tbody tr th {\n",
       "        vertical-align: top;\n",
       "    }\n",
       "\n",
       "    .dataframe thead th {\n",
       "        text-align: right;\n",
       "    }\n",
       "</style>\n",
       "<table border=\"1\" class=\"dataframe\">\n",
       "  <thead>\n",
       "    <tr style=\"text-align: right;\">\n",
       "      <th></th>\n",
       "      <th>context_id</th>\n",
       "      <th>word</th>\n",
       "      <th>gold_sense_id</th>\n",
       "      <th>predict_sense_id</th>\n",
       "      <th>positions</th>\n",
       "      <th>context</th>\n",
       "    </tr>\n",
       "  </thead>\n",
       "  <tbody>\n",
       "    <tr>\n",
       "      <th>0</th>\n",
       "      <td>1</td>\n",
       "      <td>альбом</td>\n",
       "      <td>2</td>\n",
       "      <td>NaN</td>\n",
       "      <td>88-94</td>\n",
       "      <td>достаточно лишь колесиком мышки крутить вниз. ...</td>\n",
       "    </tr>\n",
       "    <tr>\n",
       "      <th>1</th>\n",
       "      <td>2</td>\n",
       "      <td>альбом</td>\n",
       "      <td>3</td>\n",
       "      <td>NaN</td>\n",
       "      <td>85-91</td>\n",
       "      <td>выступал в составе команды с таким названием, ...</td>\n",
       "    </tr>\n",
       "    <tr>\n",
       "      <th>2</th>\n",
       "      <td>3</td>\n",
       "      <td>альбом</td>\n",
       "      <td>2</td>\n",
       "      <td>NaN</td>\n",
       "      <td>81-87</td>\n",
       "      <td>. Работает так себе, поскольку функция заточен...</td>\n",
       "    </tr>\n",
       "    <tr>\n",
       "      <th>3</th>\n",
       "      <td>4</td>\n",
       "      <td>альбом</td>\n",
       "      <td>3</td>\n",
       "      <td>NaN</td>\n",
       "      <td>84-89</td>\n",
       "      <td>одержала победу в двух из пяти номинаций: 'Луч...</td>\n",
       "    </tr>\n",
       "    <tr>\n",
       "      <th>4</th>\n",
       "      <td>5</td>\n",
       "      <td>альбом</td>\n",
       "      <td>3</td>\n",
       "      <td>NaN</td>\n",
       "      <td>83-88</td>\n",
       "      <td>встречи с Божественным. Вы испытаете ни с чем ...</td>\n",
       "    </tr>\n",
       "  </tbody>\n",
       "</table>\n",
       "</div>"
      ],
      "text/plain": [
       "   context_id    word  gold_sense_id  predict_sense_id positions  \\\n",
       "0           1  альбом              2               NaN     88-94   \n",
       "1           2  альбом              3               NaN     85-91   \n",
       "2           3  альбом              2               NaN     81-87   \n",
       "3           4  альбом              3               NaN     84-89   \n",
       "4           5  альбом              3               NaN     83-88   \n",
       "\n",
       "                                             context  \n",
       "0  достаточно лишь колесиком мышки крутить вниз. ...  \n",
       "1  выступал в составе команды с таким названием, ...  \n",
       "2  . Работает так себе, поскольку функция заточен...  \n",
       "3  одержала победу в двух из пяти номинаций: 'Луч...  \n",
       "4  встречи с Божественным. Вы испытаете ни с чем ...  "
      ]
     },
     "execution_count": 5,
     "metadata": {},
     "output_type": "execute_result"
    }
   ],
   "source": [
    "data.head()"
   ]
  },
  {
   "cell_type": "markdown",
   "metadata": {},
   "source": [
    "### init model"
   ]
  },
  {
   "cell_type": "code",
   "execution_count": 6,
   "metadata": {},
   "outputs": [],
   "source": [
    "stemmer = Mystem()\n",
    "\n",
    "embedder = gensim.models.KeyedVectors.load_word2vec_format(\n",
    "    \"../modules/ruscorpora_mean_hs.model.bin.gz\",\n",
    "    binary=True,\n",
    ")"
   ]
  },
  {
   "cell_type": "code",
   "execution_count": 7,
   "metadata": {},
   "outputs": [],
   "source": [
    "stopwords = nltk.corpus.stopwords.words(\"russian\")"
   ]
  },
  {
   "cell_type": "markdown",
   "metadata": {},
   "source": [
    "### find senses with ELMo"
   ]
  },
  {
   "cell_type": "code",
   "execution_count": 8,
   "metadata": {},
   "outputs": [],
   "source": [
    "def parse_context(\n",
    "    context,\n",
    "    target_word=None,\n",
    "    re_pattern=\"[\\w\\-]+$\",\n",
    "    stopwords=stopwords,\n",
    "    stemmer=stemmer,\n",
    "):\n",
    "    \n",
    "    target_word_lemma = stemmer.lemmatize(target_word)[0]\n",
    "    context = [\n",
    "        lemma for lemma in stemmer.lemmatize(context) \\\n",
    "        if re.match('[\\w\\-]+$', lemma) and (lemma not in stopwords)\n",
    "    ]\n",
    "    \n",
    "    target_word_idx = [i for i, lemma in enumerate(context) if lemma == target_word_lemma]\n",
    "    \n",
    "    return context, target_word_idx"
   ]
  },
  {
   "cell_type": "code",
   "execution_count": 9,
   "metadata": {},
   "outputs": [],
   "source": [
    "parsed_context = data.apply(\n",
    "    lambda row: parse_context(\n",
    "        context=row[\"context\"],\n",
    "        target_word=row[\"word\"],\n",
    "    ),\n",
    "    axis=1,\n",
    ")"
   ]
  },
  {
   "cell_type": "code",
   "execution_count": 10,
   "metadata": {},
   "outputs": [],
   "source": [
    "sentences = parsed_context.apply(lambda x: x[0])\n",
    "target_word_idx = parsed_context.apply(lambda x: x[1])"
   ]
  },
  {
   "cell_type": "code",
   "execution_count": 11,
   "metadata": {
    "scrolled": true
   },
   "outputs": [
    {
     "data": {
      "text/plain": [
       "0    [достаточно, лишь, колесико, мышка, крутить, в...\n",
       "1    [выступать, состав, команда, название, однако,...\n",
       "2    [работать, поскольку, функция, заточить, банал...\n",
       "3    [одерживать, победа, пять, номинация, хороший,...\n",
       "4    [встреча, божественный, испытывать, сравнимый,...\n",
       "dtype: object"
      ]
     },
     "execution_count": 11,
     "metadata": {},
     "output_type": "execute_result"
    }
   ],
   "source": [
    "sentences.head()"
   ]
  },
  {
   "cell_type": "code",
   "execution_count": 12,
   "metadata": {},
   "outputs": [
    {
     "data": {
      "text/plain": [
       "0    [9]\n",
       "1    [7]\n",
       "2    [7]\n",
       "3    [8]\n",
       "4    [6]\n",
       "dtype: object"
      ]
     },
     "execution_count": 12,
     "metadata": {},
     "output_type": "execute_result"
    }
   ],
   "source": [
    "target_word_idx.head()"
   ]
  },
  {
   "cell_type": "code",
   "execution_count": 13,
   "metadata": {},
   "outputs": [
    {
     "data": {
      "text/plain": [
       "1    3117\n",
       "2     458\n",
       "3      68\n",
       "0      20\n",
       "4       7\n",
       "5       1\n",
       "dtype: int64"
      ]
     },
     "execution_count": 13,
     "metadata": {},
     "output_type": "execute_result"
    }
   ],
   "source": [
    "target_word_idx.apply(len).value_counts()"
   ]
  },
  {
   "cell_type": "markdown",
   "metadata": {},
   "source": [
    "### ELMo"
   ]
  },
  {
   "cell_type": "code",
   "execution_count": 14,
   "metadata": {},
   "outputs": [],
   "source": [
    "model = ElmoModel()"
   ]
  },
  {
   "cell_type": "code",
   "execution_count": 15,
   "metadata": {
    "scrolled": true
   },
   "outputs": [
    {
     "name": "stderr",
     "output_type": "stream",
     "text": [
      "2021-07-03 07:09:41,844 : INFO : Loading model from ../modules/ruwikiruscorpora_lemmas_elmo_1024_2019/...\n",
      "2021-07-03 07:09:41,849 : INFO : We will cache the vocabulary of 100 tokens.\n"
     ]
    },
    {
     "data": {
      "text/plain": [
       "'The model is now loaded.'"
      ]
     },
     "execution_count": 15,
     "metadata": {},
     "output_type": "execute_result"
    }
   ],
   "source": [
    "model.load(\"../modules/ruwikiruscorpora_lemmas_elmo_1024_2019/\")"
   ]
  },
  {
   "cell_type": "code",
   "execution_count": 16,
   "metadata": {
    "scrolled": true
   },
   "outputs": [
    {
     "name": "stderr",
     "output_type": "stream",
     "text": [
      "2021-07-03 07:09:54,757 : INFO : Warming up ELMo on 32 sentences...\n",
      "2021-07-03 07:09:56,322 : INFO : Warming up finished.\n",
      "2021-07-03 07:09:56,328 : INFO : Texts in the current batch: 32\n",
      "2021-07-03 07:09:57,323 : INFO : Texts in the current batch: 32\n",
      "2021-07-03 07:09:58,352 : INFO : Texts in the current batch: 32\n",
      "2021-07-03 07:09:59,305 : INFO : Texts in the current batch: 32\n",
      "2021-07-03 07:10:00,276 : INFO : Texts in the current batch: 32\n",
      "2021-07-03 07:10:01,327 : INFO : Texts in the current batch: 32\n",
      "2021-07-03 07:10:02,259 : INFO : Texts in the current batch: 32\n",
      "2021-07-03 07:10:03,183 : INFO : Texts in the current batch: 32\n",
      "2021-07-03 07:10:04,102 : INFO : Texts in the current batch: 32\n",
      "2021-07-03 07:10:05,085 : INFO : Texts in the current batch: 32\n",
      "2021-07-03 07:10:06,211 : INFO : Texts in the current batch: 32\n",
      "2021-07-03 07:10:07,169 : INFO : Texts in the current batch: 32\n",
      "2021-07-03 07:10:08,227 : INFO : Texts in the current batch: 32\n",
      "2021-07-03 07:10:09,272 : INFO : Texts in the current batch: 32\n",
      "2021-07-03 07:10:10,233 : INFO : Texts in the current batch: 32\n",
      "2021-07-03 07:10:11,504 : INFO : Texts in the current batch: 32\n",
      "2021-07-03 07:10:12,757 : INFO : Texts in the current batch: 32\n",
      "2021-07-03 07:10:13,955 : INFO : Texts in the current batch: 32\n",
      "2021-07-03 07:10:15,030 : INFO : Texts in the current batch: 32\n",
      "2021-07-03 07:10:16,133 : INFO : Texts in the current batch: 32\n",
      "2021-07-03 07:10:17,269 : INFO : Texts in the current batch: 32\n",
      "2021-07-03 07:10:18,460 : INFO : Texts in the current batch: 32\n",
      "2021-07-03 07:10:19,578 : INFO : Texts in the current batch: 32\n",
      "2021-07-03 07:10:20,729 : INFO : Texts in the current batch: 32\n",
      "2021-07-03 07:10:21,539 : INFO : Texts in the current batch: 32\n",
      "2021-07-03 07:10:22,459 : INFO : Texts in the current batch: 32\n",
      "2021-07-03 07:10:23,520 : INFO : Texts in the current batch: 32\n",
      "2021-07-03 07:10:24,631 : INFO : Texts in the current batch: 32\n",
      "2021-07-03 07:10:25,737 : INFO : Texts in the current batch: 32\n",
      "2021-07-03 07:10:26,893 : INFO : Texts in the current batch: 32\n",
      "2021-07-03 07:10:27,906 : INFO : Texts in the current batch: 32\n",
      "2021-07-03 07:10:28,844 : INFO : Texts in the current batch: 32\n",
      "2021-07-03 07:10:29,983 : INFO : Texts in the current batch: 32\n",
      "2021-07-03 07:10:31,017 : INFO : Texts in the current batch: 32\n",
      "2021-07-03 07:10:32,045 : INFO : Texts in the current batch: 32\n",
      "2021-07-03 07:10:32,971 : INFO : Texts in the current batch: 32\n",
      "2021-07-03 07:10:34,137 : INFO : Texts in the current batch: 32\n",
      "2021-07-03 07:10:35,125 : INFO : Texts in the current batch: 32\n",
      "2021-07-03 07:10:36,420 : INFO : Texts in the current batch: 32\n",
      "2021-07-03 07:10:37,371 : INFO : Texts in the current batch: 32\n",
      "2021-07-03 07:10:38,412 : INFO : Texts in the current batch: 32\n",
      "2021-07-03 07:10:39,463 : INFO : Texts in the current batch: 32\n",
      "2021-07-03 07:10:40,423 : INFO : Texts in the current batch: 32\n",
      "2021-07-03 07:10:41,372 : INFO : Texts in the current batch: 32\n",
      "2021-07-03 07:10:42,267 : INFO : Texts in the current batch: 32\n",
      "2021-07-03 07:10:43,860 : INFO : Texts in the current batch: 32\n",
      "2021-07-03 07:10:44,925 : INFO : Texts in the current batch: 32\n",
      "2021-07-03 07:10:45,921 : INFO : Texts in the current batch: 32\n",
      "2021-07-03 07:10:46,867 : INFO : Texts in the current batch: 32\n",
      "2021-07-03 07:10:47,998 : INFO : Texts in the current batch: 32\n",
      "2021-07-03 07:10:49,152 : INFO : Texts in the current batch: 32\n",
      "2021-07-03 07:10:50,185 : INFO : Texts in the current batch: 32\n",
      "2021-07-03 07:10:51,223 : INFO : Texts in the current batch: 32\n",
      "2021-07-03 07:10:52,073 : INFO : Texts in the current batch: 32\n",
      "2021-07-03 07:10:52,961 : INFO : Texts in the current batch: 32\n",
      "2021-07-03 07:10:53,956 : INFO : Texts in the current batch: 32\n",
      "2021-07-03 07:10:55,080 : INFO : Texts in the current batch: 32\n",
      "2021-07-03 07:10:56,344 : INFO : Texts in the current batch: 32\n",
      "2021-07-03 07:10:57,421 : INFO : Texts in the current batch: 32\n",
      "2021-07-03 07:10:58,525 : INFO : Texts in the current batch: 32\n",
      "2021-07-03 07:10:59,552 : INFO : Texts in the current batch: 32\n",
      "2021-07-03 07:11:00,507 : INFO : Texts in the current batch: 32\n",
      "2021-07-03 07:11:01,744 : INFO : Texts in the current batch: 32\n",
      "2021-07-03 07:11:03,009 : INFO : Texts in the current batch: 32\n",
      "2021-07-03 07:11:04,332 : INFO : Texts in the current batch: 32\n",
      "2021-07-03 07:11:06,203 : INFO : Texts in the current batch: 32\n",
      "2021-07-03 07:11:07,435 : INFO : Texts in the current batch: 32\n",
      "2021-07-03 07:11:08,673 : INFO : Texts in the current batch: 32\n",
      "2021-07-03 07:11:09,931 : INFO : Texts in the current batch: 32\n",
      "2021-07-03 07:11:10,966 : INFO : Texts in the current batch: 32\n",
      "2021-07-03 07:11:11,929 : INFO : Texts in the current batch: 32\n",
      "2021-07-03 07:11:13,233 : INFO : Texts in the current batch: 32\n",
      "2021-07-03 07:11:14,243 : INFO : Texts in the current batch: 32\n",
      "2021-07-03 07:11:15,163 : INFO : Texts in the current batch: 32\n",
      "2021-07-03 07:11:16,086 : INFO : Texts in the current batch: 32\n",
      "2021-07-03 07:11:16,971 : INFO : Texts in the current batch: 32\n",
      "2021-07-03 07:11:18,010 : INFO : Texts in the current batch: 32\n",
      "2021-07-03 07:11:19,156 : INFO : Texts in the current batch: 32\n",
      "2021-07-03 07:11:20,330 : INFO : Texts in the current batch: 32\n",
      "2021-07-03 07:11:21,447 : INFO : Texts in the current batch: 32\n",
      "2021-07-03 07:11:22,728 : INFO : Texts in the current batch: 32\n",
      "2021-07-03 07:11:23,640 : INFO : Texts in the current batch: 32\n",
      "2021-07-03 07:11:24,685 : INFO : Texts in the current batch: 32\n",
      "2021-07-03 07:11:25,918 : INFO : Texts in the current batch: 32\n",
      "2021-07-03 07:11:27,012 : INFO : Texts in the current batch: 32\n",
      "2021-07-03 07:11:27,966 : INFO : Texts in the current batch: 32\n",
      "2021-07-03 07:11:28,967 : INFO : Texts in the current batch: 32\n",
      "2021-07-03 07:11:30,062 : INFO : Texts in the current batch: 32\n",
      "2021-07-03 07:11:31,201 : INFO : Texts in the current batch: 32\n",
      "2021-07-03 07:11:32,378 : INFO : Texts in the current batch: 32\n",
      "2021-07-03 07:11:33,278 : INFO : Texts in the current batch: 32\n",
      "2021-07-03 07:11:34,398 : INFO : Texts in the current batch: 32\n",
      "2021-07-03 07:11:36,372 : INFO : Texts in the current batch: 32\n",
      "2021-07-03 07:11:37,402 : INFO : Texts in the current batch: 32\n",
      "2021-07-03 07:11:38,620 : INFO : Texts in the current batch: 32\n",
      "2021-07-03 07:11:39,897 : INFO : Texts in the current batch: 32\n",
      "2021-07-03 07:11:41,202 : INFO : Texts in the current batch: 32\n",
      "2021-07-03 07:11:42,189 : INFO : Texts in the current batch: 32\n",
      "2021-07-03 07:11:43,071 : INFO : Texts in the current batch: 32\n",
      "2021-07-03 07:11:44,022 : INFO : Texts in the current batch: 32\n",
      "2021-07-03 07:11:45,010 : INFO : Texts in the current batch: 32\n",
      "2021-07-03 07:11:45,902 : INFO : Texts in the current batch: 32\n",
      "2021-07-03 07:11:46,857 : INFO : Texts in the current batch: 32\n",
      "2021-07-03 07:11:47,851 : INFO : Texts in the current batch: 32\n",
      "2021-07-03 07:11:48,861 : INFO : Texts in the current batch: 32\n",
      "2021-07-03 07:11:50,009 : INFO : Texts in the current batch: 32\n",
      "2021-07-03 07:11:50,860 : INFO : Texts in the current batch: 32\n",
      "2021-07-03 07:11:51,820 : INFO : Texts in the current batch: 32\n",
      "2021-07-03 07:11:52,745 : INFO : Texts in the current batch: 32\n",
      "2021-07-03 07:11:53,632 : INFO : Texts in the current batch: 32\n",
      "2021-07-03 07:11:54,592 : INFO : Texts in the current batch: 32\n",
      "2021-07-03 07:11:55,537 : INFO : Texts in the current batch: 32\n",
      "2021-07-03 07:11:56,532 : INFO : Texts in the current batch: 32\n",
      "2021-07-03 07:11:57,838 : INFO : Texts in the current batch: 32\n",
      "2021-07-03 07:11:58,969 : INFO : Texts in the current batch: 23\n"
     ]
    }
   ],
   "source": [
    "sentence_embeddings = model.get_elmo_vectors(texts=sentences)"
   ]
  },
  {
   "cell_type": "code",
   "execution_count": 17,
   "metadata": {},
   "outputs": [
    {
     "data": {
      "text/plain": [
       "(3671, 42, 1024)"
      ]
     },
     "execution_count": 17,
     "metadata": {},
     "output_type": "execute_result"
    }
   ],
   "source": [
    "sentence_embeddings.shape"
   ]
  },
  {
   "cell_type": "code",
   "execution_count": 18,
   "metadata": {},
   "outputs": [],
   "source": [
    "sentence_embeddings_average = sentence_embeddings.mean(axis=1)\n",
    "\n",
    "sentence_embeddings_target_word = np.zeros((\n",
    "    sentence_embeddings.shape[0],\n",
    "    sentence_embeddings.shape[2]\n",
    "))\n",
    "\n",
    "for i in range(sentence_embeddings.shape[0]):\n",
    "    if len(target_word_idx[i]) > 0:\n",
    "        sentence_embeddings_target_word[i, :] = sentence_embeddings[i][target_word_idx[i]].mean(axis=0)\n",
    "    else:\n",
    "        sentence_embeddings_target_word[i, :] = sentence_embeddings[i].mean(axis=0)"
   ]
  },
  {
   "cell_type": "code",
   "execution_count": 19,
   "metadata": {},
   "outputs": [
    {
     "data": {
      "text/plain": [
       "(3671, 1024)"
      ]
     },
     "execution_count": 19,
     "metadata": {},
     "output_type": "execute_result"
    }
   ],
   "source": [
    "sentence_embeddings_average.shape  # ari: 0.099504"
   ]
  },
  {
   "cell_type": "code",
   "execution_count": 20,
   "metadata": {},
   "outputs": [
    {
     "data": {
      "text/plain": [
       "(3671, 1024)"
      ]
     },
     "execution_count": 20,
     "metadata": {},
     "output_type": "execute_result"
    }
   ],
   "source": [
    "sentence_embeddings_target_word.shape  # ari: 0.081278"
   ]
  },
  {
   "cell_type": "markdown",
   "metadata": {},
   "source": [
    "### clustering"
   ]
  },
  {
   "cell_type": "code",
   "execution_count": 21,
   "metadata": {},
   "outputs": [],
   "source": [
    "n_clusters = 3\n",
    "n_components_svd = 15"
   ]
  },
  {
   "cell_type": "code",
   "execution_count": 22,
   "metadata": {},
   "outputs": [],
   "source": [
    "prediction = []\n",
    "\n",
    "for indices in data.groupby(\"word\").indices.values():\n",
    "    cluster = KMeans(\n",
    "        n_clusters=n_clusters,\n",
    "        random_state=0,\n",
    "    )\n",
    "    svd = TruncatedSVD(\n",
    "        n_components=n_components_svd,\n",
    "        algorithm=\"arpack\",\n",
    "        random_state=42,\n",
    "    )\n",
    "    prediction.extend(\n",
    "        cluster.fit_predict(\n",
    "            svd.fit_transform(\n",
    "                sentence_embeddings_average[indices]\n",
    "            )\n",
    "        )\n",
    "    )"
   ]
  },
  {
   "cell_type": "code",
   "execution_count": 23,
   "metadata": {},
   "outputs": [],
   "source": [
    "data[\"predict_sense_id\"] = prediction"
   ]
  },
  {
   "cell_type": "code",
   "execution_count": 24,
   "metadata": {},
   "outputs": [],
   "source": [
    "data.to_csv(\n",
    "    \"predictions/elmo_prediction.tsv\",\n",
    "    sep=\"\\t\",\n",
    "    index=False,\n",
    ")"
   ]
  },
  {
   "cell_type": "markdown",
   "metadata": {},
   "source": [
    "### valudate"
   ]
  },
  {
   "cell_type": "code",
   "execution_count": 25,
   "metadata": {
    "scrolled": true
   },
   "outputs": [
    {
     "name": "stdout",
     "output_type": "stream",
     "text": [
      "word\tari\tcount\r\n",
      "альбом\t0.113449\t450\r\n",
      "анатомия\t0.012595\t95\r\n",
      "базар\t0.018194\t90\r\n",
      "балет\t-0.006860\t94\r\n",
      "беда\t0.004462\t93\r\n",
      "бездна\t0.040665\t87\r\n",
      "билет\t-0.011528\t447\r\n",
      "блок\t0.214035\t206\r\n",
      "блоха\t-0.009533\t86\r\n",
      "брак\t0.060003\t96\r\n",
      "бритва\t-0.004478\t85\r\n",
      "будущее\t-0.006368\t83\r\n",
      "вешалка\t0.014040\t390\r\n",
      "вилка\t0.307757\t302\r\n",
      "винт\t0.223169\t358\r\n",
      "галерея\t0.064159\t24\r\n",
      "горбуша\t0.336936\t93\r\n",
      "горшок\t0.120861\t406\r\n",
      "гроза\t-0.058905\t95\r\n",
      "группа\t0.114872\t91\r\n",
      "\t0.099504\t3671\r\n"
     ]
    }
   ],
   "source": [
    "!python3 ../data/russe-wsi-kit/evaluate.py predictions/elmo_prediction.tsv"
   ]
  },
  {
   "cell_type": "code",
   "execution_count": null,
   "metadata": {},
   "outputs": [],
   "source": []
  }
 ],
 "metadata": {
  "kernelspec": {
   "display_name": "Python 3",
   "language": "python",
   "name": "python3"
  },
  "language_info": {
   "codemirror_mode": {
    "name": "ipython",
    "version": 3
   },
   "file_extension": ".py",
   "mimetype": "text/x-python",
   "name": "python",
   "nbconvert_exporter": "python",
   "pygments_lexer": "ipython3",
   "version": "3.7.5"
  }
 },
 "nbformat": 4,
 "nbformat_minor": 4
}
